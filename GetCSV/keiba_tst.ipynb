{
 "cells": [
  {
   "cell_type": "code",
   "execution_count": 1,
   "metadata": {},
   "outputs": [],
   "source": [
    "import requests\n",
    "from tqdm import tqdm_notebook as tqdm\n",
    "import time\n",
    "from bs4 import BeautifulSoup\n",
    "import pandas as pd"
   ]
  },
  {
   "cell_type": "code",
   "execution_count": 2,
   "metadata": {},
   "outputs": [],
   "source": [
    "Base = \"http://race.sp.netkeiba.com/?pid=race_result&race_id=\"\n",
    "dst = ''\n",
    "df_col = ['year', 'date', 'field', 'race', 'race_name'\n",
    "          , 'course', 'head_count', 'rank', 'horse_name'\n",
    "          , 'gender', 'age', 'trainerA', 'trainerB', 'weight', 'c_weight', 'jackie', 'j_weight'\n",
    "          , 'odds','popu']"
   ]
  },
  {
   "cell_type": "code",
   "execution_count": 3,
   "metadata": {},
   "outputs": [],
   "source": [
    "def numStr(num):\n",
    "    if num >= 10:\n",
    "        return str(num)\n",
    "    else:\n",
    "        return '0' + str(num)"
   ]
  },
  {
   "cell_type": "code",
   "execution_count": 4,
   "metadata": {},
   "outputs": [],
   "source": [
    "year = 2008\n",
    "i = 1\n",
    "j = 1\n",
    "k = 1\n",
    "l = 1"
   ]
  },
  {
   "cell_type": "code",
   "execution_count": 5,
   "metadata": {},
   "outputs": [],
   "source": [
    "url = Base + str(year) + numStr(i) + numStr(j) + numStr(k) + numStr(l)"
   ]
  },
  {
   "cell_type": "code",
   "execution_count": 7,
   "metadata": {},
   "outputs": [
    {
     "name": "stdout",
     "output_type": "stream",
     "text": [
      "0.10069680213928223\n"
     ]
    }
   ],
   "source": [
    "start = time.time()\n",
    "html = requests.get(url)\n",
    "print(time.time()-start)"
   ]
  },
  {
   "cell_type": "code",
   "execution_count": 9,
   "metadata": {},
   "outputs": [
    {
     "name": "stdout",
     "output_type": "stream",
     "text": [
      "1.109039068222046\n"
     ]
    }
   ],
   "source": [
    "html.encoding = 'EUC-JP'\n",
    "start = time.time()\n",
    "soup = BeautifulSoup(html.text, 'html.parser')\n",
    "print(time.time()-start)"
   ]
  },
  {
   "cell_type": "code",
   "execution_count": 11,
   "metadata": {},
   "outputs": [
    {
     "name": "stdout",
     "output_type": "stream",
     "text": [
      "0.15761232376098633\n"
     ]
    }
   ],
   "source": [
    "start = time.time()\n",
    "CommonYear = year\n",
    "CommonDate = soup.find_all('div', attrs={'class', 'Change_Btn Day'})[0].string.strip()\n",
    "CommonField= soup.find_all('div', attrs={'class', 'Change_Btn Course'})[0].string.strip()\n",
    "CommonRace = soup.find_all('div', attrs={'Race_Num'})[0].span.string\n",
    "CommonRname= soup.find_all('dt', attrs={'class', 'Race_Name'})[0].contents[0].strip()\n",
    "CommonCourse= soup.find_all('dd', attrs={'Race_Data'})[0].span.string\n",
    "CommonHcount= soup.find_all('dd', attrs={'class', 'Race_Data'})[0].contents[3].split()[1]\n",
    "print(time.time()-start)"
   ]
  },
  {
   "cell_type": "code",
   "execution_count": 23,
   "metadata": {},
   "outputs": [
    {
     "name": "stdout",
     "output_type": "stream",
     "text": [
      "0.1655569076538086\n"
     ]
    }
   ],
   "source": [
    "start = time.time()\n",
    "df = pd.DataFrame(columns=df_col)\n",
    "m = 1\n",
    "dst = pd.Series(index=df_col)\n",
    "dst['year'] = CommonYear\n",
    "dst['date'] = CommonDate\n",
    "dst['field']= CommonField\n",
    "dst['race'] = CommonRace\n",
    "dst['race_name'] = CommonRname\n",
    "dst['course'] = CommonCourse\n",
    "dst['head_count'] = CommonHcount\n",
    "dst['rank'] = soup.find_all('div', attrs='Rank')[m].contents[0]\n",
    "dst['horse_name'] = soup.find_all('dt', attrs=['class', 'Horse_Name'])[m].a.string\n",
    "detailL = soup.find_all('span', attrs=['class', 'Detail_Left'])[m]\n",
    "dst['gender'] = list(detailL.contents[0].split()[0])[0]\n",
    "dst['age'] = list(detailL.contents[0].split()[0])[1]\n",
    "dst['trainerA'] = detailL.span.string.split('･')[0]\n",
    "dst['trainerB'] = detailL.span.string.split('･')[1]\n",
    "if len(detailL.contents[0].split())>=2:\n",
    "    dst['weight'] = detailL.contents[0].split()[1].split('(')[0]\n",
    "    if len(detailL.contents[0].split()[1].split('('))>=2:\n",
    "        dst['c_weight'] = detailL.contents[0].split()[1].split('(')[1].strip(')')\n",
    "        detailR = soup.find_all('span', attrs=['class', 'Detail_Right'])[m].contents\n",
    "        if  \"\\n\" in detailR or \"\\n▲\" in detailR or '\\n☆' in detailR:\n",
    "            detailR.pop(0)\n",
    "        dst['jackie'] = detailR[0].string.strip()\n",
    "        dst['j_weight'] = detailR[2].strip().replace('(', '').replace(')', '')                    \n",
    "        Odds = soup.find_all('td', attrs=['class', 'Odds'])[m].contents[1]\n",
    "        if Odds.dt.string is not None:\n",
    "            dst['odds'] = Odds.dt.string.strip('倍')\n",
    "dst.name = str(year) + numStr(i) + numStr(j) + numStr(k) + numStr(l) + numStr(m)\n",
    "df = df.append(dst)\n",
    "print(time.time()-start)"
   ]
  },
  {
   "cell_type": "code",
   "execution_count": 24,
   "metadata": {},
   "outputs": [
    {
     "data": {
      "text/html": [
       "<div>\n",
       "<style scoped>\n",
       "    .dataframe tbody tr th:only-of-type {\n",
       "        vertical-align: middle;\n",
       "    }\n",
       "\n",
       "    .dataframe tbody tr th {\n",
       "        vertical-align: top;\n",
       "    }\n",
       "\n",
       "    .dataframe thead th {\n",
       "        text-align: right;\n",
       "    }\n",
       "</style>\n",
       "<table border=\"1\" class=\"dataframe\">\n",
       "  <thead>\n",
       "    <tr style=\"text-align: right;\">\n",
       "      <th></th>\n",
       "      <th>year</th>\n",
       "      <th>date</th>\n",
       "      <th>field</th>\n",
       "      <th>race</th>\n",
       "      <th>race_name</th>\n",
       "      <th>course</th>\n",
       "      <th>head_count</th>\n",
       "      <th>rank</th>\n",
       "      <th>horse_name</th>\n",
       "      <th>gender</th>\n",
       "      <th>age</th>\n",
       "      <th>trainerA</th>\n",
       "      <th>trainerB</th>\n",
       "      <th>weight</th>\n",
       "      <th>c_weight</th>\n",
       "      <th>jackie</th>\n",
       "      <th>j_weight</th>\n",
       "      <th>odds</th>\n",
       "      <th>popu</th>\n",
       "    </tr>\n",
       "  </thead>\n",
       "  <tbody>\n",
       "    <tr>\n",
       "      <th>20080101010101</th>\n",
       "      <td>2008.0</td>\n",
       "      <td>8/16(土)</td>\n",
       "      <td>札幌</td>\n",
       "      <td>1R</td>\n",
       "      <td>２歳未勝利</td>\n",
       "      <td>芝1500m</td>\n",
       "      <td>14頭</td>\n",
       "      <td>2</td>\n",
       "      <td>アイディンパワー</td>\n",
       "      <td>牡</td>\n",
       "      <td>2</td>\n",
       "      <td>栗東</td>\n",
       "      <td>本田</td>\n",
       "      <td>460</td>\n",
       "      <td>0</td>\n",
       "      <td>藤田</td>\n",
       "      <td>54.0</td>\n",
       "      <td>5.2</td>\n",
       "      <td>NaN</td>\n",
       "    </tr>\n",
       "  </tbody>\n",
       "</table>\n",
       "</div>"
      ],
      "text/plain": [
       "                  year     date field race race_name  course head_count rank  \\\n",
       "20080101010101  2008.0  8/16(土)    札幌   1R     ２歳未勝利  芝1500m        14頭    2   \n",
       "\n",
       "               horse_name gender age trainerA trainerB weight c_weight jackie  \\\n",
       "20080101010101   アイディンパワー      牡   2       栗東       本田    460        0     藤田   \n",
       "\n",
       "               j_weight odds  popu  \n",
       "20080101010101     54.0  5.2   NaN  "
      ]
     },
     "execution_count": 24,
     "metadata": {},
     "output_type": "execute_result"
    }
   ],
   "source": [
    "df"
   ]
  },
  {
   "cell_type": "code",
   "execution_count": 25,
   "metadata": {
    "scrolled": true
   },
   "outputs": [
    {
     "data": {
      "application/vnd.jupyter.widget-view+json": {
       "model_id": "5a2e0a466ac947c68c882c42f9493c28",
       "version_major": 2,
       "version_minor": 0
      },
      "text/plain": [
       "HBox(children=(IntProgress(value=0, max=4), HTML(value='')))"
      ]
     },
     "metadata": {},
     "output_type": "display_data"
    },
    {
     "data": {
      "application/vnd.jupyter.widget-view+json": {
       "model_id": "2348df944d834e0a8da463f2c540d8fe",
       "version_major": 2,
       "version_minor": 0
      },
      "text/plain": [
       "HBox(children=(IntProgress(value=0, max=10), HTML(value='')))"
      ]
     },
     "metadata": {},
     "output_type": "display_data"
    },
    {
     "data": {
      "application/vnd.jupyter.widget-view+json": {
       "model_id": "9303a6307fad46a8a108d4d4843d4415",
       "version_major": 2,
       "version_minor": 0
      },
      "text/plain": [
       "HBox(children=(IntProgress(value=0, max=10), HTML(value='')))"
      ]
     },
     "metadata": {},
     "output_type": "display_data"
    },
    {
     "ename": "KeyboardInterrupt",
     "evalue": "",
     "output_type": "error",
     "traceback": [
      "\u001b[1;31m---------------------------------------------------------------------------\u001b[0m",
      "\u001b[1;31mKeyboardInterrupt\u001b[0m                         Traceback (most recent call last)",
      "\u001b[1;32m<ipython-input-25-f7cd36d17a22>\u001b[0m in \u001b[0;36m<module>\u001b[1;34m()\u001b[0m\n\u001b[0;32m     61\u001b[0m                             \u001b[0mdst\u001b[0m\u001b[1;33m.\u001b[0m\u001b[0mname\u001b[0m \u001b[1;33m=\u001b[0m \u001b[0mstr\u001b[0m\u001b[1;33m(\u001b[0m\u001b[0myear\u001b[0m\u001b[1;33m)\u001b[0m \u001b[1;33m+\u001b[0m \u001b[0mnumStr\u001b[0m\u001b[1;33m(\u001b[0m\u001b[0mi\u001b[0m\u001b[1;33m)\u001b[0m \u001b[1;33m+\u001b[0m \u001b[0mnumStr\u001b[0m\u001b[1;33m(\u001b[0m\u001b[0mj\u001b[0m\u001b[1;33m)\u001b[0m \u001b[1;33m+\u001b[0m \u001b[0mnumStr\u001b[0m\u001b[1;33m(\u001b[0m\u001b[0mk\u001b[0m\u001b[1;33m)\u001b[0m \u001b[1;33m+\u001b[0m \u001b[0mnumStr\u001b[0m\u001b[1;33m(\u001b[0m\u001b[0ml\u001b[0m\u001b[1;33m)\u001b[0m \u001b[1;33m+\u001b[0m \u001b[0mnumStr\u001b[0m\u001b[1;33m(\u001b[0m\u001b[0mm\u001b[0m\u001b[1;33m)\u001b[0m\u001b[1;33m\u001b[0m\u001b[0m\n\u001b[0;32m     62\u001b[0m \u001b[1;33m\u001b[0m\u001b[0m\n\u001b[1;32m---> 63\u001b[1;33m                             \u001b[0mdf\u001b[0m \u001b[1;33m=\u001b[0m \u001b[0mdf\u001b[0m\u001b[1;33m.\u001b[0m\u001b[0mappend\u001b[0m\u001b[1;33m(\u001b[0m\u001b[0mdst\u001b[0m\u001b[1;33m)\u001b[0m\u001b[1;33m\u001b[0m\u001b[0m\n\u001b[0m\u001b[0;32m     64\u001b[0m     \u001b[0mdf\u001b[0m\u001b[1;33m.\u001b[0m\u001b[0mto_csv\u001b[0m\u001b[1;33m(\u001b[0m\u001b[1;34m'keiba'\u001b[0m \u001b[1;33m+\u001b[0m \u001b[0mstr\u001b[0m\u001b[1;33m(\u001b[0m\u001b[0myear\u001b[0m\u001b[1;33m)\u001b[0m \u001b[1;33m+\u001b[0m \u001b[1;34m'.csv'\u001b[0m\u001b[1;33m,\u001b[0m \u001b[0mencoding\u001b[0m\u001b[1;33m=\u001b[0m\u001b[1;34m'shift-jis'\u001b[0m\u001b[1;33m)\u001b[0m\u001b[1;33m\u001b[0m\u001b[0m\n",
      "\u001b[1;32m~\\Anaconda3\\lib\\site-packages\\pandas\\core\\frame.py\u001b[0m in \u001b[0;36mappend\u001b[1;34m(self, other, ignore_index, verify_integrity, sort)\u001b[0m\n\u001b[0;32m   6175\u001b[0m                 \u001b[0mindex\u001b[0m \u001b[1;33m=\u001b[0m \u001b[0mIndex\u001b[0m\u001b[1;33m(\u001b[0m\u001b[1;33m[\u001b[0m\u001b[0mother\u001b[0m\u001b[1;33m.\u001b[0m\u001b[0mname\u001b[0m\u001b[1;33m]\u001b[0m\u001b[1;33m,\u001b[0m \u001b[0mname\u001b[0m\u001b[1;33m=\u001b[0m\u001b[0mself\u001b[0m\u001b[1;33m.\u001b[0m\u001b[0mindex\u001b[0m\u001b[1;33m.\u001b[0m\u001b[0mname\u001b[0m\u001b[1;33m)\u001b[0m\u001b[1;33m\u001b[0m\u001b[0m\n\u001b[0;32m   6176\u001b[0m \u001b[1;33m\u001b[0m\u001b[0m\n\u001b[1;32m-> 6177\u001b[1;33m             \u001b[0midx_diff\u001b[0m \u001b[1;33m=\u001b[0m \u001b[0mother\u001b[0m\u001b[1;33m.\u001b[0m\u001b[0mindex\u001b[0m\u001b[1;33m.\u001b[0m\u001b[0mdifference\u001b[0m\u001b[1;33m(\u001b[0m\u001b[0mself\u001b[0m\u001b[1;33m.\u001b[0m\u001b[0mcolumns\u001b[0m\u001b[1;33m)\u001b[0m\u001b[1;33m\u001b[0m\u001b[0m\n\u001b[0m\u001b[0;32m   6178\u001b[0m             \u001b[1;32mtry\u001b[0m\u001b[1;33m:\u001b[0m\u001b[1;33m\u001b[0m\u001b[0m\n\u001b[0;32m   6179\u001b[0m                 \u001b[0mcombined_columns\u001b[0m \u001b[1;33m=\u001b[0m \u001b[0mself\u001b[0m\u001b[1;33m.\u001b[0m\u001b[0mcolumns\u001b[0m\u001b[1;33m.\u001b[0m\u001b[0mappend\u001b[0m\u001b[1;33m(\u001b[0m\u001b[0midx_diff\u001b[0m\u001b[1;33m)\u001b[0m\u001b[1;33m\u001b[0m\u001b[0m\n",
      "\u001b[1;32m~\\Anaconda3\\lib\\site-packages\\pandas\\core\\indexes\\base.py\u001b[0m in \u001b[0;36mdifference\u001b[1;34m(self, other)\u001b[0m\n\u001b[0;32m   2907\u001b[0m \u001b[1;33m\u001b[0m\u001b[0m\n\u001b[0;32m   2908\u001b[0m         label_diff = np.setdiff1d(np.arange(this.size), indexer,\n\u001b[1;32m-> 2909\u001b[1;33m                                   assume_unique=True)\n\u001b[0m\u001b[0;32m   2910\u001b[0m         \u001b[0mthe_diff\u001b[0m \u001b[1;33m=\u001b[0m \u001b[0mthis\u001b[0m\u001b[1;33m.\u001b[0m\u001b[0mvalues\u001b[0m\u001b[1;33m.\u001b[0m\u001b[0mtake\u001b[0m\u001b[1;33m(\u001b[0m\u001b[0mlabel_diff\u001b[0m\u001b[1;33m)\u001b[0m\u001b[1;33m\u001b[0m\u001b[0m\n\u001b[0;32m   2911\u001b[0m         \u001b[1;32mtry\u001b[0m\u001b[1;33m:\u001b[0m\u001b[1;33m\u001b[0m\u001b[0m\n",
      "\u001b[1;32m~\\Anaconda3\\lib\\site-packages\\numpy\\lib\\arraysetops.py\u001b[0m in \u001b[0;36msetdiff1d\u001b[1;34m(ar1, ar2, assume_unique)\u001b[0m\n\u001b[0;32m    662\u001b[0m         \u001b[0mar1\u001b[0m \u001b[1;33m=\u001b[0m \u001b[0munique\u001b[0m\u001b[1;33m(\u001b[0m\u001b[0mar1\u001b[0m\u001b[1;33m)\u001b[0m\u001b[1;33m\u001b[0m\u001b[0m\n\u001b[0;32m    663\u001b[0m         \u001b[0mar2\u001b[0m \u001b[1;33m=\u001b[0m \u001b[0munique\u001b[0m\u001b[1;33m(\u001b[0m\u001b[0mar2\u001b[0m\u001b[1;33m)\u001b[0m\u001b[1;33m\u001b[0m\u001b[0m\n\u001b[1;32m--> 664\u001b[1;33m     \u001b[1;32mreturn\u001b[0m \u001b[0mar1\u001b[0m\u001b[1;33m[\u001b[0m\u001b[0min1d\u001b[0m\u001b[1;33m(\u001b[0m\u001b[0mar1\u001b[0m\u001b[1;33m,\u001b[0m \u001b[0mar2\u001b[0m\u001b[1;33m,\u001b[0m \u001b[0massume_unique\u001b[0m\u001b[1;33m=\u001b[0m\u001b[1;32mTrue\u001b[0m\u001b[1;33m,\u001b[0m \u001b[0minvert\u001b[0m\u001b[1;33m=\u001b[0m\u001b[1;32mTrue\u001b[0m\u001b[1;33m)\u001b[0m\u001b[1;33m]\u001b[0m\u001b[1;33m\u001b[0m\u001b[0m\n\u001b[0m",
      "\u001b[1;32m~\\Anaconda3\\lib\\site-packages\\numpy\\lib\\arraysetops.py\u001b[0m in \u001b[0;36min1d\u001b[1;34m(ar1, ar2, assume_unique, invert)\u001b[0m\n\u001b[0;32m    482\u001b[0m     \u001b[1;31m# here. The values from the first array should always come before\u001b[0m\u001b[1;33m\u001b[0m\u001b[1;33m\u001b[0m\u001b[0m\n\u001b[0;32m    483\u001b[0m     \u001b[1;31m# the values from the second array.\u001b[0m\u001b[1;33m\u001b[0m\u001b[1;33m\u001b[0m\u001b[0m\n\u001b[1;32m--> 484\u001b[1;33m     \u001b[0morder\u001b[0m \u001b[1;33m=\u001b[0m \u001b[0mar\u001b[0m\u001b[1;33m.\u001b[0m\u001b[0margsort\u001b[0m\u001b[1;33m(\u001b[0m\u001b[0mkind\u001b[0m\u001b[1;33m=\u001b[0m\u001b[1;34m'mergesort'\u001b[0m\u001b[1;33m)\u001b[0m\u001b[1;33m\u001b[0m\u001b[0m\n\u001b[0m\u001b[0;32m    485\u001b[0m     \u001b[0msar\u001b[0m \u001b[1;33m=\u001b[0m \u001b[0mar\u001b[0m\u001b[1;33m[\u001b[0m\u001b[0morder\u001b[0m\u001b[1;33m]\u001b[0m\u001b[1;33m\u001b[0m\u001b[0m\n\u001b[0;32m    486\u001b[0m     \u001b[1;32mif\u001b[0m \u001b[0minvert\u001b[0m\u001b[1;33m:\u001b[0m\u001b[1;33m\u001b[0m\u001b[0m\n",
      "\u001b[1;31mKeyboardInterrupt\u001b[0m: "
     ]
    }
   ],
   "source": [
    "for year in tqdm(range(2015, 2019)):\n",
    "    df = pd.DataFrame()\n",
    "    for i in tqdm(range(1, 11)):\n",
    "        for j in tqdm(range(1, 11)):\n",
    "            for k in range(1, 11):\n",
    "                for l in range(1, 13):\n",
    "                    # urlでぶっこ抜く\n",
    "                    url = Base + str(year) + numStr(i) + numStr(j) + numStr(k) + numStr(l)\n",
    "                    #time.sleep(1)\n",
    "                    html = requests.get(url)\n",
    "                    html.encoding = 'EUC-JP'\n",
    "                    \n",
    "                    # scraping\n",
    "                    soup = BeautifulSoup(html.text, 'html.parser')\n",
    "                    # ページがあるかの判定\n",
    "                    if soup.find_all('div', attrs={'class', 'Result_Guide'})!=[]:\n",
    "                        time.sleep(1)\n",
    "                        break\n",
    "                    else:\n",
    "                        #共通部分を抜き出す\n",
    "                        CommonYear = year\n",
    "                        CommonDate = soup.find_all('div', attrs={'class', 'Change_Btn Day'})[0].string.strip()\n",
    "                        CommonField= soup.find_all('div', attrs={'class', 'Change_Btn Course'})[0].string.strip()\n",
    "                        CommonRace = soup.find_all('div', attrs={'Race_Num'})[0].span.string\n",
    "                        CommonRname= soup.find_all('dt', attrs={'class', 'Race_Name'})[0].contents[0].strip()\n",
    "                        CommonCourse= soup.find_all('dd', attrs={'Race_Data'})[0].span.string\n",
    "                        CommonHcount= soup.find_all('dd', attrs={'class', 'Race_Data'})[0].contents[3].split()[1]\n",
    "                        \n",
    "                        for m in range(len(soup.find_all('div', attrs='Rank'))):\n",
    "                            dst = pd.Series(index=df_col)\n",
    "                            try:\n",
    "                                dst['year'] = CommonYear\n",
    "                                dst['date'] = CommonDate\n",
    "                                dst['field']= CommonField\n",
    "                                dst['race'] = CommonRace\n",
    "                                dst['race_name'] = CommonRname\n",
    "                                dst['course'] = CommonCourse\n",
    "                                dst['head_count'] = CommonHcount\n",
    "                                dst['rank'] = soup.find_all('div', attrs='Rank')[m].contents[0]\n",
    "                                dst['horse_name'] = soup.find_all('dt', attrs=['class', 'Horse_Name'])[m].a.string\n",
    "                                detailL = soup.find_all('span', attrs=['class', 'Detail_Left'])[m]\n",
    "                                dst['gender'] = list(detailL.contents[0].split()[0])[0]\n",
    "                                dst['age'] = list(detailL.contents[0].split()[0])[1]\n",
    "                                dst['trainerA'] = detailL.span.string.split('･')[0]\n",
    "                                dst['trainerB'] = detailL.span.string.split('･')[1]\n",
    "                                if len(detailL.contents[0].split())>=2:\n",
    "                                    dst['weight'] = detailL.contents[0].split()[1].split('(')[0]\n",
    "                                    if len(detailL.contents[0].split()[1].split('('))>=2:\n",
    "                                        dst['c_weight'] = detailL.contents[0].split()[1].split('(')[1].strip(')')\n",
    "                                detailR = soup.find_all('span', attrs=['class', 'Detail_Right'])[m].contents\n",
    "                                if  \"\\n\" in detailR or \"\\n▲\" in detailR or '\\n☆' in detailR:\n",
    "                                    detailR.pop(0)\n",
    "                                dst['jackie'] = detailR[0].string.strip()\n",
    "                                dst['j_weight'] = detailR[2].strip().replace('(', '').replace(')', '')\n",
    "                                Odds = soup.find_all('td', attrs=['class', 'Odds'])[m].contents[1]\n",
    "                                if Odds.dt.string is not None:\n",
    "                                    dst['odds'] = Odds.dt.string.strip('倍')\n",
    "                            except:\n",
    "                                time.sleep(0.01)\n",
    "                                break\n",
    "                            dst.name = str(year) + numStr(i) + numStr(j) + numStr(k) + numStr(l) + numStr(m)\n",
    "                            \n",
    "                            df = df.append(dst)\n",
    "    df.to_csv('keiba' + str(year) + '.csv', encoding='shift-jis')"
   ]
  },
  {
   "cell_type": "code",
   "execution_count": null,
   "metadata": {},
   "outputs": [],
   "source": [
    "year = 2017\n",
    "for i in tqdm(range(1, 11)):\n",
    "    for j in tqdm(range(1, 11)):\n",
    "        for k in range(1, 11):\n",
    "            for l in range(1, 13):\n",
    "                # urlでぶっこ抜く\n",
    "                url = Base + str(year) + numStr(i) + numStr(j) + numStr(k) + numStr(l)\n",
    "                #time.sleep(1)\n",
    "                html = requests.get(url)\n",
    "                html.encoding = 'EUC-JP'\n",
    "                    \n",
    "                # scraping\n",
    "                soup = BeautifulSoup(html.text, 'html.parser')\n",
    "                # ページがあるかの判定\n",
    "                if soup.find_all('div', attrs={'class', 'Result_Guide'})!=[]:\n",
    "                    time.sleep(1)\n",
    "                    break\n",
    "                else:\n",
    "                    #共通部分を抜き出す\n",
    "                    CommonYear = year\n",
    "                    CommonDate = soup.find_all('div', attrs={'class', 'Change_Btn Day'})[0].string.strip()\n",
    "                    CommonField= soup.find_all('div', attrs={'class', 'Change_Btn Course'})[0].string.strip()\n",
    "                    CommonRace = soup.find_all('div', attrs={'Race_Num'})[0].span.string\n",
    "                    CommonRname= soup.find_all('dt', attrs={'class', 'Race_Name'})[0].contents[0].strip()\n",
    "                    CommonCourse= soup.find_all('dd', attrs={'Race_Data'})[0].span.string\n",
    "                    CommonHcount= soup.find_all('dd', attrs={'class', 'Race_Data'})[0].contents[3].split()[1]\n",
    "                        \n",
    "                    for m in range(len(soup.find_all('div', attrs='Rank'))):\n",
    "                        dst = pd.Series(index=df_col)\n",
    "                        try:\n",
    "                            dst['year'] = CommonYear\n",
    "                            dst['date'] = CommonDate\n",
    "                            dst['field']= CommonField\n",
    "                            dst['race'] = CommonRace\n",
    "                            dst['race_name'] = CommonRname\n",
    "                            dst['course'] = CommonCourse\n",
    "                            dst['head_count'] = CommonHcount\n",
    "                            dst['rank'] = soup.find_all('div', attrs='Rank')[m].contents[0]\n",
    "                            dst['horse_name'] = soup.find_all('dt', attrs=['class', 'Horse_Name'])[m].a.string\n",
    "                            detailL = soup.find_all('span', attrs=['class', 'Detail_Left'])[m]\n",
    "                            dst['gender'] = list(detailL.contents[0].split()[0])[0]\n",
    "                            dst['age'] = list(detailL.contents[0].split()[0])[1]\n",
    "                            dst['trainerA'] = detailL.span.string.split('･')[0]\n",
    "                            dst['trainerB'] = detailL.span.string.split('･')[1]\n",
    "                            if len(detailL.contents[0].split())>=2:\n",
    "                                dst['weight'] = detailL.contents[0].split()[1].split('(')[0]\n",
    "                                if len(detailL.contents[0].split()[1].split('('))>=2:\n",
    "                                    dst['c_weight'] = detailL.contents[0].split()[1].split('(')[1].strip(')')\n",
    "                            detailR = soup.find_all('span', attrs=['class', 'Detail_Right'])[m].contents\n",
    "                            if  \"\\n\" in detailR or \"\\n▲\" in detailR or '\\n☆' in detailR:\n",
    "                                detailR.pop(0)\n",
    "                            dst['jackie'] = detailR[0].string.strip()\n",
    "                            dst['j_weight'] = detailR[2].strip().replace('(', '').replace(')', '')\n",
    "                            Odds = soup.find_all('td', attrs=['class', 'Odds'])[m].contents[1]\n",
    "                            if Odds.dt.string is not None:\n",
    "                                dst['odds'] = Odds.dt.string.strip('倍')\n",
    "                                dst['popu'] = soup.find_all('td', attrs=['class', 'Odds'])[0].contents[1].dd.string.strip('人気')\n",
    "                        except:\n",
    "                            break\n",
    "                        dst.name = str(year) + numStr(i) + numStr(j) + numStr(k) + numStr(l) + numStr(m)\n",
    "                    \n",
    "                        df = df.append(dst)\n",
    "df.to_csv('keiba' + str(year) + '.csv', encoding='shift-jis')"
   ]
  },
  {
   "cell_type": "code",
   "execution_count": 322,
   "metadata": {},
   "outputs": [
    {
     "name": "stdout",
     "output_type": "stream",
     "text": [
      "3 3 5 12 13 2008\n"
     ]
    }
   ],
   "source": [
    "print(i, j, k, l, m, year)"
   ]
  },
  {
   "cell_type": "code",
   "execution_count": 321,
   "metadata": {},
   "outputs": [
    {
     "data": {
      "text/plain": [
       "False"
      ]
     },
     "execution_count": 321,
     "metadata": {},
     "output_type": "execute_result"
    }
   ],
   "source": [
    "len(detailL.contents[0].split()[1].split('('))>=2"
   ]
  },
  {
   "cell_type": "code",
   "execution_count": 203,
   "metadata": {},
   "outputs": [
    {
     "name": "stdout",
     "output_type": "stream",
     "text": [
      "http://race.sp.netkeiba.com/?pid=race_result&race_id=200801010102\n"
     ]
    }
   ],
   "source": [
    "url = Base + str(year) + numStr(i) + numStr(j) + numStr(k) + numStr(l)\n",
    "print(url)\n",
    "time.sleep(1)\n",
    "html = requests.get(url)\n",
    "html.encoding = 'EUC-JP'\n",
    "soup = BeautifulSoup(html.text, 'html.parser')\n",
    "\n",
    "CommonYear = year\n",
    "CommonDate = soup.find_all('div', attrs={'class', 'Change_Btn Day'})[0].string.strip()\n",
    "CommonField= soup.find_all('div', attrs={'class', 'Change_Btn Course'})[0].string.strip()\n",
    "CommonRace = soup.find_all('div', attrs={'Race_Num'})[0].span.string\n",
    "CommonRname= soup.find_all('dt', attrs={'class', 'Race_Name'})[0].string.strip()\n",
    "CommonCourse= soup.find_all('dd', attrs={'Race_Data'})[0].span.string\n",
    "CommonHcount= soup.find_all('dd', attrs={'class', 'Race_Data'})[0].contents[3].split()[1]\n",
    "m = 10\n",
    "detailR = soup.find_all('span', attrs=['class', 'Detail_Right'])[m].contents\n",
    "#print(detailR[0].strip())\n",
    "#print(detailR[2].strip().replace('(', '').replace(')', ''))"
   ]
  },
  {
   "cell_type": "code",
   "execution_count": 82,
   "metadata": {},
   "outputs": [],
   "source": [
    "# test\n",
    "year = 2008\n",
    "i = 1\n",
    "j = 1\n",
    "k = 1\n",
    "l = 1\n",
    "url = Base + str(year) + numStr(i) + numStr(j) + numStr(k) + numStr(l)\n",
    "html = requests.get(url)\n",
    "html.encoding = 'EUC-JP'"
   ]
  },
  {
   "cell_type": "code",
   "execution_count": 83,
   "metadata": {},
   "outputs": [],
   "source": [
    "soup = BeautifulSoup(html.text, 'html.parser')"
   ]
  },
  {
   "cell_type": "code",
   "execution_count": 84,
   "metadata": {},
   "outputs": [
    {
     "data": {
      "text/plain": [
       "'http://race.sp.netkeiba.com/?pid=race_result&race_id=200801010101'"
      ]
     },
     "execution_count": 84,
     "metadata": {},
     "output_type": "execute_result"
    }
   ],
   "source": [
    "url"
   ]
  },
  {
   "cell_type": "code",
   "execution_count": 113,
   "metadata": {},
   "outputs": [
    {
     "data": {
      "text/plain": [
       "year             2008\n",
       "date          8/16(土)\n",
       "field              札幌\n",
       "race               1R\n",
       "race_name       ２歳未勝利\n",
       "course         芝1500m\n",
       "head_count        14頭\n",
       "rank              NaN\n",
       "horse_name        NaN\n",
       "gender            NaN\n",
       "age               NaN\n",
       "trainerA          NaN\n",
       "trainerB          NaN\n",
       "weight            NaN\n",
       "c_weight          NaN\n",
       "jackie            NaN\n",
       "j_weight          NaN\n",
       "odds              NaN\n",
       "popu              NaN\n",
       "dtype: object"
      ]
     },
     "execution_count": 113,
     "metadata": {},
     "output_type": "execute_result"
    }
   ],
   "source": [
    "dst_tst = pd.Series(index = df_col)\n",
    "#共通\n",
    "dst_tst['year'] = year\n",
    "dst_tst['date'] = soup.find_all('div', attrs={'class', 'Change_Btn Day'})[0].string.strip()\n",
    "dst_tst['field']= soup.find_all('div', attrs={'class', 'Change_Btn Course'})[0].string.strip()\n",
    "dst_tst['race'] = soup.find_all('div', attrs={'Race_Num'})[0].span.string\n",
    "dst_tst['race_name'] = soup.find_all('dt', attrs={'class', 'Race_Name'})[0].string.strip()\n",
    "dst_tst['course'] = soup.find_all('dd', attrs={'Race_Data'})[0].span.string\n",
    "dst_tst['head_count'] = soup.find_all('dd', attrs={'class', 'Race_Data'})[0].contents[3].split()[1]\n",
    "dst_tst"
   ]
  },
  {
   "cell_type": "code",
   "execution_count": 86,
   "metadata": {},
   "outputs": [
    {
     "data": {
      "text/plain": [
       "['year',\n",
       " 'date',\n",
       " 'field',\n",
       " 'race',\n",
       " 'race_name',\n",
       " 'course',\n",
       " 'head_count',\n",
       " 'rank',\n",
       " 'horse_name',\n",
       " 'gender',\n",
       " 'age',\n",
       " 'trainerA',\n",
       " 'trainerB',\n",
       " 'weight',\n",
       " 'c_weight',\n",
       " 'jackie',\n",
       " 'j_weight',\n",
       " 'odds',\n",
       " 'popu']"
      ]
     },
     "execution_count": 86,
     "metadata": {},
     "output_type": "execute_result"
    }
   ],
   "source": [
    "df_col"
   ]
  },
  {
   "cell_type": "code",
   "execution_count": 149,
   "metadata": {},
   "outputs": [
    {
     "data": {
      "text/html": [
       "<div>\n",
       "<style scoped>\n",
       "    .dataframe tbody tr th:only-of-type {\n",
       "        vertical-align: middle;\n",
       "    }\n",
       "\n",
       "    .dataframe tbody tr th {\n",
       "        vertical-align: top;\n",
       "    }\n",
       "\n",
       "    .dataframe thead th {\n",
       "        text-align: right;\n",
       "    }\n",
       "</style>\n",
       "<table border=\"1\" class=\"dataframe\">\n",
       "  <thead>\n",
       "    <tr style=\"text-align: right;\">\n",
       "      <th></th>\n",
       "      <th>age</th>\n",
       "      <th>c_weight</th>\n",
       "      <th>course</th>\n",
       "      <th>date</th>\n",
       "      <th>field</th>\n",
       "      <th>gender</th>\n",
       "      <th>head_count</th>\n",
       "      <th>horse_name</th>\n",
       "      <th>j_weight</th>\n",
       "      <th>jackie</th>\n",
       "      <th>odds</th>\n",
       "      <th>popu</th>\n",
       "      <th>race</th>\n",
       "      <th>race_name</th>\n",
       "      <th>rank</th>\n",
       "      <th>trainerA</th>\n",
       "      <th>trainerB</th>\n",
       "      <th>weight</th>\n",
       "      <th>year</th>\n",
       "    </tr>\n",
       "  </thead>\n",
       "  <tbody>\n",
       "    <tr>\n",
       "      <th>new</th>\n",
       "      <td>2</td>\n",
       "      <td>0</td>\n",
       "      <td>芝1500m</td>\n",
       "      <td>8/16(土)</td>\n",
       "      <td>札幌</td>\n",
       "      <td>牝</td>\n",
       "      <td>14頭</td>\n",
       "      <td>ディアジーナ</td>\n",
       "      <td>54.0</td>\n",
       "      <td>四位</td>\n",
       "      <td>4.3</td>\n",
       "      <td>2</td>\n",
       "      <td>1R</td>\n",
       "      <td>２歳未勝利</td>\n",
       "      <td>1</td>\n",
       "      <td>美浦</td>\n",
       "      <td>田村</td>\n",
       "      <td>468</td>\n",
       "      <td>2008.0</td>\n",
       "    </tr>\n",
       "  </tbody>\n",
       "</table>\n",
       "</div>"
      ],
      "text/plain": [
       "    age c_weight  course     date field gender head_count horse_name j_weight  \\\n",
       "new   2        0  芝1500m  8/16(土)    札幌      牝        14頭     ディアジーナ     54.0   \n",
       "\n",
       "    jackie odds popu race race_name rank trainerA trainerB weight    year  \n",
       "new     四位  4.3    2   1R     ２歳未勝利    1       美浦       田村    468  2008.0  "
      ]
     },
     "execution_count": 149,
     "metadata": {},
     "output_type": "execute_result"
    }
   ],
   "source": [
    "#馬別\n",
    "dst_tst['rank'] = soup.find_all('div', attrs='Rank')[0].contents[0]\n",
    "dst_tst['horse_name'] = soup.find_all('dt', attrs=['class', 'Horse_Name'])[0].a.string\n",
    "detail = soup.find_all('span', attrs=['class', 'Detail_Left'])[0]\n",
    "dst_tst['gender'] = list(detail.contents[0].split()[0])[0]\n",
    "dst_tst['age'] = list(detail.contents[0].split()[0])[1]\n",
    "dst_tst['trainerA'] = detail.span.string.split('･')[0]\n",
    "dst_tst['trainerB'] = detail.span.string.split('･')[1]\n",
    "dst_tst['weight'] = detail.contents[0].split()[1].split('(')[0]\n",
    "dst_tst['c_weight'] = detail.contents[0].split()[1].split('(')[1].strip(')')\n",
    "dst_tst['jackie'] = soup.find_all('span', attrs=['class', 'Detail_Right'])[0].contents[0].strip()\n",
    "dst_tst['j_weight'] = soup.find_all('span', attrs=['class', 'Detail_Right'])[0].contents[2].strip().replace('(', '').replace(')', '')\n",
    "dst_tst['odds'] = soup.find_all('td', attrs=['class', 'Odds'])[0].contents[1].dt.string.strip('倍')\n",
    "dst_tst['popu'] = soup.find_all('td', attrs=['class', 'Odds'])[0].contents[1].dd.string.strip('人気')\n",
    "dst_tst.name = 'new'\n",
    "\n",
    "df.append(dst_tst)"
   ]
  },
  {
   "cell_type": "code",
   "execution_count": 77,
   "metadata": {},
   "outputs": [
    {
     "name": "stdout",
     "output_type": "stream",
     "text": [
      "True\n"
     ]
    },
    {
     "data": {
      "text/plain": [
       "[<div class=\"Result_Guide\">\n",
       " <p>30秒速報の情報はプレミアムサービス<br/>登録でご覧になれます。</p>\n",
       " <a class=\"mb20\" href=\"https://regist.sp.netkeiba.com/\">登録済みの方はこちらからログイン</a>\n",
       " <div class=\"MoreLinkBtn Detail\"><a data-theme=\"01003\" href=\"https://regist.sp.netkeiba.com/?pid=premium&amp;service=p43&amp;return_url=http%3A%2F%2Frace.sp.netkeiba.com%2F%3Fpid%3Drace_result%26race_id%3D200801011001\" id=\"a_monthly_goods_link_01\">30秒速報を見る</a></div>\n",
       " </div>]"
      ]
     },
     "execution_count": 77,
     "metadata": {},
     "output_type": "execute_result"
    }
   ],
   "source": [
    "p = soup.find_all('div', attrs={'class', 'Result_Guide'} )\n",
    "if soup.find_all('div', attrs={'class', 'Result_Guide'})!=[]:\n",
    "    pass\n",
    "else:\n",
    "    dst = pd.Series(index=df_col)\n",
    "    dst['']"
   ]
  },
  {
   "cell_type": "code",
   "execution_count": 32,
   "metadata": {},
   "outputs": [],
   "source": [
    "html = requests.get(url)"
   ]
  },
  {
   "cell_type": "code",
   "execution_count": 33,
   "metadata": {},
   "outputs": [],
   "source": [
    "html.encoding = 'EUC-JP'"
   ]
  },
  {
   "cell_type": "code",
   "execution_count": 34,
   "metadata": {},
   "outputs": [
    {
     "data": {
      "text/plain": [
       "'\\n\\n<!DOCTYPE html>\\n<html>\\n<head>\\n<meta charset=\"EUC-JP\">\\n\\n<!-- block=meta_tag_each_race (cp) -->\\n<meta http-equiv=\"content-language\" content=\"ja\">\\n<meta name=\"viewport\" content=\"width=device-width, initial-scale=1.0, maximum-scale=1.0, minimum-scale=0.5, user-scalable=yes\">\\n\\n<meta name=\"format-detection\" content=\"telephone=no\" />\\n<meta name=\"description\" content=\"2008年8月16日 札幌1R ２歳未勝利の結果・払戻です。JRA開催レースの出馬表や最新オッズ、レース結果速報、払戻情報をはじめ、競馬予想やデータ分析など予想に役立つ情報も満載です。\" />\\n<meta name=\"keywords\" content=\"競馬,keiba,出馬表,オッズ,予想,レース結果,払戻し,結果速報,競馬予想,ネット競馬,netkeiba\" />\\n<meta name=\"thumbnail\" content=\"http://www.netkeiba.com/style/netkeiba.ja/image/netkeiba.png\" />\\n<!-- ogp用 -->\\n<meta property=\"og:site_name\" content=\"netkeiba.com\" />\\n<meta property=\"og:type\" content=\"article\" />\\n<meta property=\"og:title\" content=\"２歳未勝利 結果・払戻 | 2008年8月16日 札幌1R レース情報(JRA) - netkeiba.com\" />\\n<meta property=\"og:url\" content=\"http://race.netkeiba.com/?pid=race&id=c200801010101&mode=result\" />\\n<meta property=\"og:description\" content=\"2008年8月16日 札幌1R ２歳未勝利の結果・払戻です。JRA開催レースの出馬表や最新オッズ、レース結果速報、払戻情報をはじめ、競馬予想やデータ分析など予想に役立つ情報も満載です。\" />\\n<meta property=\"og:image\" content=\"http://www.netkeiba.com/style/netkeiba.ja/image/netkeiba.png\" />\\n<!-- Twitter用 -->\\n<meta property=\"twitter:card\" content=\"summary\">\\n<meta property=\"twitter:site\" content=\"@netkeiba\">\\n<!-- Facebook用 -->\\n<meta property=\"fb:admins\" content=\"30367\" />\\n<!-- アノテーション -->\\n<link rel=\"canonical\" href=\"http://race.netkeiba.com/?pid=race&id=c200801010101&mode=result\" />\\n<link rel=\"alternate\" media=\"only screen and (max-width: 640px)\" href=\"http://race.sp.netkeiba.com/?pid=race_result&race_id=200801010101\" />\\n<link rel=\"alternate\" type=\"application/rss+xml\" href=\"http://rss.netkeiba.com/?pid=rss_netkeiba&site=netkeiba\" />\\n<link rel=\"apple-touch-icon\" href=\"https://cdn.netkeiba.com/img.sp/common/img/common/icon_home.png\" />\\n<title>２歳未勝利 結果・払戻 | 2008年8月16日 札幌1R レース情報(JRA) - netkeiba.com</title>\\n<!-- 共通css include -->\\n<!-- block=race_common_css (d) -->\\n<link rel=\"apple-touch-icon\" href=\"https://cdn.netkeiba.com/img.sp/common/img/common/icon_home.png\" />\\n<link rel=\"shortcut icon\" href=\"/favicon.ico\">\\n<link rel=\"stylesheet\" href=\"https://cdn.netkeiba.com/img.sp/common/css/common_new.css?2018040401\" type=\"text/css\" media=\"screen\" />\\n<link rel=\"stylesheet\" href=\"https://cdn.netkeiba.com/img.sp/common/css/stg.mediaqueries.css?2015091801\" type=\"text/css\" media=\"screen\" />\\n<link rel=\"stylesheet\" href=\"https://cdn.netkeiba.com/img.race.sp/common/css/race_new.css?2018111401\" type=\"text/css\" media=\"screen\" />\\n<link rel=\"stylesheet\" href=\"https://cdn.netkeiba.com/img.race.sp/common/css/shutuba.css?20180705\" type=\"text/css\" media=\"screen\" /><!-- 出馬表 -->\\n<link rel=\"stylesheet\" href=\"https://cdn.netkeiba.com/img.race.sp/common/css/premium_info_modal.css?18101601\" type=\"text/css\" media=\"screen\" />\\n\\n<!-- 共通js include -->\\n<!-- block=race_common_js (d) -->\\n<script type=\"text/javascript\" src=\"https://cdn.netkeiba.com/img.race.sp/common/js/jquery-1.7.1.min.js?2016070102\"></script>\\n<script type=\"text/javascript\" src=\"https://cdn.netkeiba.com/img.regist.sp/common/js/monthly_goods_link.js?2017062101\"></script>\\n<script type=\"text/javascript\" src=\"https://cdn.netkeiba.com/img.race.sp/common/js/jquery.colorbox.js?20181011\"></script>\\n<script type=\"text/javascript\" src=\"https://cdn.netkeiba.com/img.yoso.sp/common/js/yoso/YosoJra.js?2018110904\" type=\"text/javascript\"></script>\\n<script type=\"text/javascript\">\\n// $Id: race_common_js.html 18117 2018-11-15 03:27:27Z matsushima $\\n//window.console = {};\\n//window.console.log = function(i){return;};\\n</script>\\n<!-- GoogleAdsense -->\\n<script async=\\'async\\' src=\\'https://www.googletagservices.com/tag/js/gpt.js\\'></script>\\n<script>\\nvar googletag = googletag || {};\\ngoogletag.cmd = googletag.cmd || [];\\n</script>\\n<script type=\"text/javascript\">\\ngoogletag.cmd.push(function() {\\nvar nkAdCategory = \"race\";\\nvar href_value = location.href.split(\"://\")[1];\\nvar url_value = href_value.split(\"?\")[0].substr(0, 40);\\nvar parameter_value = \"null\";\\nif (location.search) {\\nparameter_value = href_value.split(\"?\")[1].substr(0, 40);\\n}\\nvar ref_value = \"null\";\\nif (document.referrer) {\\nvar ref_array=[];\\nref_array=document.referrer.split(\"/\");\\nref_value = ref_array[2];\\n}\\ngoogletag.pubads().setTargeting(\"url\", url_value).setTargeting(\"url_parameter\", parameter_value).setTargeting(\"ref\", ref_value).setTargeting(\"category\", nkAdCategory);\\n});\\n</script>\\n<!-- その他 include -->\\n<!-- block=race_common_other (d) -->\\n\\n</head>\\n<body id=\"Netkeiba_Race_Result\">\\n<div data-role=\"page\" class=\"Wrap fc\">\\n<!-- block=race_header (d) -->\\n<header id=\"PageTOP\" class=\"Header_Area fc\">\\n<link rel=\"stylesheet\" href=\"https://cdn.netkeiba.com/img.sp/common/css/header_new.css?20180329\" type=\"text/css\" media=\"screen\" />\\n<div class=\"Header_Inner fc\">\\n<h1><a href=\"http://sp.netkeiba.com/\">netkeiba.com</a></h1>\\n<ul class=\"fc\">\\n<li class=\"HeadSearchBtn\">\\n<a href=\"javascript:void(0)\" class=\"Icon_Header Icon_Search\"><span class=\"disp_none\">検索</span></a>\\n</li>\\n<li class=\"HeadLoginBtn\">\\n<a href=\"https://regist.sp.netkeiba.com/\" class=\"Icon_Header Icon_Login\"><span class=\"disp_none\">ログイン</span></a>\\n</li>\\n\\n</ul>\\n<div class=\"HeadSearchArea\" style=\"display: none;\">\\n<form class=\"Search_Box\" action=\"http://db.sp.netkeiba.com/\" method=\"get\">\\n<input type=\"hidden\" name=\"pid\" value=\"horse_list\">\\n<div class=\"HeadSearch_Form01\">\\n<input class=\"searchForm\" placeholder=\"馬名を入力\" type=\"text\" name=\"word\" id=\"keywords\" />\\n</div><!-- /.HeadSearch_Form01 -->\\n<input type=\"submit\" value=\"検索\" class=\"Search_Submit01\" />\\n</form>\\n</div><!--/ .HeadSearchArea -->\\n<script type=\"text/javascript\">\\n$(function(){\\n$(\".HeadSearchBtn a\").click(function(){\\n$(\".HeadSearchArea\").slideToggle(\"fast\");\\n});\\n});\\n</script>\\n</div><!-- /.Header_Inner -->\\n<div class=\"GMenu01\">\\n<nav class=\"ContentNavi01\">\\n<ul class=\"fc\">\\n<li>\\n<a href=\"http://sp.netkeiba.com/?rf=navi\" title=\"トップ\">トップ</a>\\n</li>\\n<li class=\"\">\\n<a href=\"https://news.sp.netkeiba.com/?rf=navi\" title=\"ニュース\">ニュース</a>\\n</li>\\n<li class=\"Active\">\\n<a href=\"http://race.sp.netkeiba.com/?rf=navi\" title=\"レース\">レース</a>\\n</li>\\n<li>\\n<a href=\"http://yoso.sp.netkeiba.com/?access=init&rf=navi\" title=\"ウマい馬券\">ウマい馬券</a>\\n</li>\\n<li>\\n<a href=\"https://news.sp.netkeiba.com/?pid=column_top&rf=navi\" title=\"コラム\">コラム</a>\\n</li>\\n<li>\\n<a href=\"https://books.netkeiba.com/?rf=navi\" title=\"ブックス\">ブックス</a>\\n</li>\\n<li>\\n<a href=\"http://db.sp.netkeiba.com/?rf=navi\" title=\"データベース\">データベース</a>\\n</li>\\n<li>\\n<a href=\"https://nar.sp.netkeiba.com/?rf=navi\" title=\"地方競馬\">地方競馬</a>\\n</li>\\n<li>\\n<a href=\"http://orepro.netkeiba.com/?rf=navi\" title=\"俺プロ\"><!--<span class=\"MenuNewIcon\">NEW</span>-->俺プロ</a>\\n</li>\\n<li>\\n<a href=\"http://community.sp.keiba.findfriends.jp/?rf=navi\" title=\"競馬広場\">競馬広場</a>\\n</li>\\n<li>\\n<a href=\"http://sp.netkeiba.com/?pid=owner_info&rf=navi\" title=\"一口馬主\">一口馬主</a>\\n</li>\\n<li>\\n<a href=\"https://pog.sp.netkeiba.com/?rf=navi\" title=\"POG\">POG</a>\\n</li>\\n<li class=\"\">\\n<a href=\"http://race.sp.netkeiba.com/?pid=bookmark&rf=navi\" title=\"お気に入り馬\">お気に入り馬</a>\\n</li>\\n<li>\\n<a href=\"http://sp.netkeiba.com/game?rf=navi\" title=\"ゲーム\">ゲーム</a>\\n</li>\\n<li>\\n<a href=\"https://regist.sp.netkeiba.com/?rf=navi\" title=\"アカウント\">アカウント</a>\\n</li>\\n</ul>\\n</nav><!-- /.ContentNavi01 -->\\n<div class=\"Andro2Navi\" style=\"display:none\">\\n<form>\\n<select name=\"type\" class=\"select_search\" onChange=\"location.href=this.options[this.selectedIndex].value\">\\n<option value=\"http://sp.netkeiba.com/\">トップ</option>\\n<option value=\"https://news.sp.netkeiba.com/\">ニュース</option>\\n<option value=\"http://race.sp.netkeiba.com/\">レース</option>\\n<option value=\"http://yoso.sp.netkeiba.com/\">厳選予想</option>\\n<option value=\"https://news.sp.netkeiba.com/?pid=column_top\">コラム</option>\\n<option value=\"https://books.netkeiba.com/\">ブックス</option>\\n<option value=\"http://db.sp.netkeiba.com/\">データベース</option>\\n<option value=\"https://nar.sp.netkeiba.com/\">地方競馬</option>\\n<option value=\"http://orepro.netkeiba.com/\">俺プロ</option>\\n<option value=\"http://community.sp.keiba.findfriends.jp/\">競馬広場</option>\\n<option value=\"http://sp.netkeiba.com/?pid=owner_info\">一口馬主</option>\\n<option value=\"https://pog.sp.netkeiba.com/\">POG</option>\\n<option value=\"http://race.sp.netkeiba.com/?pid=bookmark\">お気に入り馬</option>\\n<option value=\"http://sp.netkeiba.com/game\">ゲーム</option>\\n<option value=\"https://regist.sp.netkeiba.com/\">アカウント</option>\\n</select>\\n</form>\\n</div><!-- /.Andro2Navi -->\\n</div><!-- /.GMenu01 -->\\n</header>\\n<!--<script src=\"__SP_WWW_SOGOCH__common/js/iscroll_Menu.js\" type=\"text/javascript\" charset=\"utf-8\"></script>-->\\n<script src=\"https://cdn.netkeiba.com/img.sp/common/js/iscroll_Menu.js?2015081401\" type=\"text/javascript\" charset=\"utf-8\"></script>\\n<script type=\"text/javascript\">\\n$(document).ready(function () {\\nfunction androidVersion() {\\nvar ua = navigator.userAgent;\\nif( ua.indexOf(\"Android\") > 0 ){\\nvar version = parseFloat(ua.slice(ua.indexOf(\"Android\")+8));\\nreturn version;\\n}\\n}\\nif (androidVersion() < 2.4) {\\n$(\".ContentNavi01\").hide();\\n$(\".Andro2Navi\").show();\\n$(\".Header_Area\").css(\\'height\\',\\'86px\\');\\n} else {\\n// iscroll指定\\nvar element = $(\".ContentNavi01\")[0];\\nvar scroll_x = new iScroll(element, {\\nhideScrollbar: false,\\nbounce: false,\\nCenterTransform: true,\\nscrollbarClass: \\'scrollbar\\'\\n});\\n// メニュー追従用\\nvar nav = $(\\'.GMenu01\\');\\noffset = nav.offset();\\nvar floatMenu = function() {\\nif($(window).scrollTop() > offset.top) {\\nnav.addClass(\\'fixed\\');\\n} else {\\nnav.removeClass(\\'fixed\\');\\n}\\n}\\n$(window).scroll(floatMenu);\\n$(\\'body\\').bind(\\'touchmove\\', floatMenu);\\n}\\n});\\n</script>\\n<script>\\nwindow.dataLayer = window.dataLayer || [];\\ndataLayer.push({\\'dimension1\\': \\'NotLogin\\'});\\n</script>\\n<div class=\"Contents\">\\n<!-- block=advertisement_pmp (d) -->\\n<div id=\\'div-gpt-ad-1491281151230-2\\' style=\"text-align:center;margin-top:2px;\">\\n<script>\\ngoogletag.cmd.push(function() {    googletag.defineSlot(\\'/21246805/sp_nk_race_PMP\\', [[1, 1], [300, 250], [320, 180], [320, 100], [320, 50]], \\'div-gpt-ad-1491281151230-2\\').addService(googletag.pubads())\\n.setCollapseEmptyDiv(true,true);\\ngoogletag.enableServices();\\ngoogletag.display(\\'div-gpt-ad-1491281151230-2\\'); });\\n</script>\\n</div>\\n<!-- block=race_title (cp) -->\\n<div class=\"Race_Detail_Info_Btn\">\\n<div class=\"Title\">\\n<div class=\"Title_Box fc\">\\n<div class=\"RaceChangeMenu_Group fc\">\\n<div class=\"Change_Btn Day\">\\n8/16(土)\\n</div><!-- / .Change_Btn Day -->\\n<ul class=\"DayChange_List\" style=\"display:none\">\\n<li>\\n<a href=\"http://race.sp.netkeiba.com/?pid=race_result&race_id=200801010201&rf=rs\" class=\"\">8/17(日)</a>\\n</li>\\n\\n<li>\\n<a href=\"http://race.sp.netkeiba.com/?pid=race_list\" class=\"\">今週へ</a>\\n</li>\\n</ul>\\n<div class=\"Change_Btn Course\">\\n札幌\\n</div><!-- / .Change_Btn Course -->\\n<ul class=\"CourseChange_List\" style=\"display:none\">\\n<li>\\n<a href=\"?pid=race_result&race_id=200804030101&rf=rs\">新潟</a>\\n</li><li>\\n<a href=\"?pid=race_result&race_id=200810030101&rf=rs\">小倉</a>\\n</li>\\n</ul>\\n</div><!-- / .RaceChangeMenu_Group -->\\n<ul class=\"RaceNumLink fc\">\\n<li class=\"Prev_Race First\"></li>\\n\\n<li class=\"Next_Race\">\\n<a href=\"?pid=race_result&race_id=200801010102&rf=rs\" title=\"2R\">2R</a>\\n</li>\\n\\n</ul>\\n</div><!-- / .Title_Box -->\\n</div><!-- / .Title -->\\n</div><!-- / .Race_Detail_Info_Btn -->\\n<script>\\n$(function() {\\n$(\\'.Change_Btn\\').append(\\'<span class=\"Icon_Change_ArrowB\"></span>\\');\\n$(\\'.Change_Btn.Day,.Change_Btn.Course\\').click(function() {\\n$(this).children(\\'span\\').toggleClass(\\'Icon_Change_ArrowB\\').toggleClass(\\'Icon_Change_ArrowT\\');\\n$(this).toggleClass(\\'Change_BgColor\\');\\n$(this).next().slideToggle(\"fast\");\\n});\\n});\\n</script>\\n<div class=\"RaceList_NameBox\">\\n<a href=\"javascript:void(0)\">\\n<div class=\"RaceList_Item01\">\\n<div class=\"Race_Num\">\\n<span id=\"kaisaiDate:20080816\">1R</span>\\n</div><!-- /.Race_Num -->\\n</div><!-- /.RaceList_Item01 -->\\n<div class=\"RaceList_Item02\">\\n<dl>\\n<dt class=\"Race_Name\">２歳未勝利\\n\\n\\n\\n\\n\\n\\n\\n\\n\\n\\n\\n\\n\\n</dt>\\n<dd class=\"Race_Data\">10:40 <!-- <span class=\"Turf\"> --><span>芝1500m</span> (右) 14頭 曇<span class=\"Icon_Weather Weather02\"></span>\\n<span class=\"Item03\" style=\"margin-left:18px;\">良</li>\\n\\n</dd>\\n</dl>\\n</div><!-- /.RaceList_Item02 -->\\n</a>\\n<div class=\"RaceData_Hide\" style=\"display:none\">\\n<div class=\"RaceDetail fc\">\\n<p>サラ系２歳未勝利(混)[指]馬齢<br>本賞金：500、200、130、75、50万円</p>\\n<div class=\"Course_Image\"><img src=\"https://cdn.netkeiba.com/img.race.sp/common/img/course/01_t1500.png\" alt=\"\"></div>\\n\\n<div class=\"CourseRecord\">\\n<dl>\\n<dt><img src=\"https://cdn.netkeiba.com/img.race.sp/common/img/race/text01.png\" alt=\"コースレコード\" width=\"27\"></dt>\\n<dd class=\"Time\">1:29.3</dd>\\n<dd class=\"Horse_Name\">イクスキューズ(2006年)</dd>\\n\\n</dl>\\n</div><!-- /.CourseRecord -->\\n</div><!-- /.RaceDetail -->\\n</div><!-- /.RaceData_Hide -->\\n</div><!-- /.RaceList_NameBox -->\\n<script>\\n$(function() {\\n$(\\'.RaceList_NameBox > a\\').append(\\'<span class=\"Icon_ArrowB\"></span>\\');\\n$(\\'.RaceList_NameBox > a\\').click(function() {\\n$(\\'.RaceList_NameBox a > span\\').toggleClass(\\'Icon_ArrowT\\').toggleClass(\\'Icon_ArrowB\\')\\n$(\\'.RaceData_Hide\\').slideToggle(\\'fast\\');\\nreturn false;\\n});\\n});\\n</script>\\n<!-- block=race_navi (d) -->\\n<div class=\"RaceInfo_Navi\">\\n<ul class=\"RaceInfo_Tab fc\">\\n<li id=\"navi_shutuba\"><a href=\"http://race.sp.netkeiba.com/?pid=shutuba&race_id=200801010101\"><span class=\"Icon_Sprite_Nk Icon_RaceInfo01\"></span>出馬表</a></li>\\n<li id=\"navi_yoso_mark_list\"><a href=\"http://race.sp.netkeiba.com/?pid=yoso_mark_list&race_id=200801010101\"><span class=\"Icon_Sprite_Nk Icon_RaceInfo02\"></span>予想</a></li>\\n<li id=\"navi_odds_view\"><a href=\"http://race.sp.netkeiba.com/?pid=odds_view&race_id=200801010101\"><span class=\"Icon_Sprite_Nk Icon_RaceInfo32_3\"></span><span style=\"font-size:92%;letter-spacing:-2px;white-space:nowrap;\">オッズ</span>&middot購入</a></li>\\n<li id=\"navi_race_result\"><a href=\"http://race.sp.netkeiba.com/?pid=race_result&race_id=200801010101\"><span class=\"Icon_Sprite_Nk Icon_RaceInfo05\"></span>結果払戻</a></li>\\n<li id=\"navi_other\" class=\"New\"><a href=\"javascript:void(0)\"><span class=\"Icon_RaceInfo_Open Icon_MenuOpen\"></span>その他</a></li>\\n</ul>\\n</div><!-- /.RaceInfo_Navi -->\\n<div id=\"hdm_RaceSubMenu1_menu\" class=\"RaceSubMenuArea\" style=\"display: none;\">\\n<div class=\"RaceSubMenu\">\\n<ul class=\"RaceMenuList RaceMenuSub fc\">\\n<li>\\n<!--<span class=\"No_Link\">-->\\n<a href=\"http://race.sp.netkeiba.com/?pid=bet&amp;race_id=200801010101\" class=\"RaceMenuButton\" title=\"連携サービス\">\\n<span class=\"Icon_Sprite_Nk Icon_RaceInfo16\"></span>\\n<span class=\"Icon_Label\">IPAT連携</span>\\n</span>\\n</a>\\n</li>\\n<li>\\n<a href=\"http://race.sp.netkeiba.com/?pid=oikiri&amp;race_id=200801010101\" class=\"RaceMenuButton\" title=\"調教タイム\">\\n<span class=\"Icon_Sprite_Nk Icon_RaceInfo09\"></span>\\n<span class=\"Icon_Label\">調教タイム</span>\\n</a>\\n</li>\\n<li>\\n<a href=\"http://race.sp.netkeiba.com/?pid=comment&amp;race_id=200801010101\" class=\"RaceMenuButton\" title=\"厩舎コメント\">\\n<span class=\"Icon_Sprite_Nk Icon_RaceInfo08\"></span>\\n<span class=\"Icon_Label\">厩舎コメント</span>\\n</a>\\n</li>\\n<li class=\"\">\\n<a href=\"http://race.sp.netkeiba.com/?pid=data_top3&amp;race_id=200801010101\" class=\"RaceMenuButton\" title=\"馬券分析\">\\n<span class=\"Icon_Sprite_Nk Icon_RaceInfo07\"></span>\\n<span class=\"Icon_Label\">馬券分析</span>\\n</a>\\n</li>\\n<li>\\n<a href=\"http://race.sp.netkeiba.com/?pid=speed&amp;race_id=200801010101\" class=\"RaceMenuButton\" title=\"タイム指数\">\\n<span class=\"Icon_Sprite_Nk Icon_RaceInfo10\"></span>\\n<span class=\"Icon_Label\">タイム指数</span>\\n</a>\\n</li>\\n<li>\\n<a href=\"http://race.sp.netkeiba.com/v2/barometer/score.html?race_id=200801010101&rf=menu\" class=\"RaceMenuButton\" title=\"調子偏差値\">\\n<span class=\"Icon_Sprite_Nk Icon_RaceInfo35\"></span>\\n<span class=\"Icon_Label\">調子偏差値</span>\\n</a>\\n</li>\\n<li>\\n<a href=\"http://race.sp.netkeiba.com/?pid=bias&amp;race_id=200801010101\" class=\"RaceMenuButton\" title=\"血統ビーム\">\\n<span class=\"Icon_Sprite_Nk Icon_RaceInfo11\"></span>\\n<span class=\"Icon_Label\">血統分析</span>\\n</a>\\n</li>\\n<li>\\n<a href=\"http://race.sp.netkeiba.com/?pid=race_movie&amp;race_id=200801010101\" class=\"RaceMenuButton\" title=\"レース映像\">\\n<span class=\"Icon_Sprite_Nk Icon_RaceInfo13\"></span>\\n<span class=\"Icon_Label\">レース映像</span>\\n</a>\\n</li>\\n<li>\\n<a href=\"http://race.sp.netkeiba.com/?pid=oikiri_movie&amp;race_id=200801010101\" class=\"RaceMenuButton\" title=\"調教映像\">\\n<span class=\"NewIcon\"></span>\\n<span class=\"Icon_Sprite_Nk Icon_RaceInfo28\"></span>\\n<span class=\"Icon_Label\">調教映像</span>\\n</a>\\n</li>\\n<li>\\n<a href=\"http://race.sp.netkeiba.com/?pid=bbs&amp;race_id=200801010101\" class=\"RaceMenuButton\" title=\"掲示板\">\\n<span class=\"Icon_Sprite_Nk Icon_RaceInfo14\"></span>\\n<span class=\"Icon_Label\">掲示板</span>\\n</a>\\n</li>\\n<li>\\n<a href=\"http://orepro.netkeiba.com/bet/shutuba.html?race_id=200801010101&mode=init\" class=\"RaceMenuButton\" title=\"俺プロ\">\\n<span class=\"Icon_Sprite_Nk Icon_RaceInfo34\"></span>\\n<span class=\"Icon_Label\">俺プロ</span>\\n</a>\\n</li>\\n<li>\\n<a href=\"http://race.sp.netkeiba.com/?pid=special&amp;race_id=200801010101\" class=\"RaceMenuButton\" title=\"特集\">\\n<span class=\"Icon_Sprite_Nk Icon_RaceInfo12\"></span>\\n<span class=\"Icon_Label\">特集</span>\\n</a>\\n</li>\\n</ul>\\n</div><!-- /.RaceSubMenu -->\\n</div><!-- /.hdm_RaceSubMenu1_menu -->\\n<div class=\"RaceOdds_Menu01\" id=\"odds_menu\" style=\"display: none;\">\\n\\n</div><!-- /.__race_menu_odds__ -->\\n<script>\\n(function($) {\\n$(\\'.No_Link a\\').click(function() {\\nreturn false;\\n});\\n$(\\'#navi_other\\').toggle(function() {\\n$(\\'#hdm_RaceSubMenu1_menu\\').fadeIn(\\'fast\\');\\n$(this).html(\\'<a href=\"javascript:void(0)\"><span class=\"Icon_RaceInfo_Close Icon_MenuClose\"></span>閉じる</a>\\');\\n$(this).addClass(\\'boxShadow_none\\');\\n$(\\'#navi_other > a\\').addClass(\\'navi_other_active\\');\\n}, function() {\\n$(\\'#hdm_RaceSubMenu1_menu\\').fadeOut(\\'fast\\');\\n$(this).removeClass(\\'boxShadow_none\\');\\n$(this).html(\\'<a href=\"javascript:void(0)\"><span class=\"Icon_RaceInfo_Open Icon_MenuOpen\"></span>その他</a>\\');\\n});\\n/* navigation tab active */\\nvar q = get_page_query();\\nvar page_id = \\'\\';\\nvar odds_type = \\'\\';\\nif(undefined == q[\\'pid\\']){\\npage_id = \\'shutuba\\';\\n}else{\\nswitch(q[\\'pid\\'])\\n{\\ncase \\'race_result\\':\\ncase \\'race_flash\\':\\ncase \\'race_review\\':\\npage_id = \\'race_result\\';\\nbreak;\\ndefault:\\npage_id = q[\\'pid\\'];\\nbreak;\\n}\\n}\\nif(undefined == q[\\'type\\']){\\nodds_type = \\'b0\\';\\n}else{\\nodds_type = q[\\'type\\'];\\n}\\n//    page_id = \\'odds\\';\\n//    console.log(\\'page_id=\\'+page_id);\\n// 選択されているタブをアクティブ表示\\n$(\"[id^=\\'navi_\\']\").each(function(){\\nvar tab_id = $(this).prop(\\'id\\');\\nif(tab_id == \\'navi_\\'+page_id){\\n$(\\'#\\'+tab_id).addClass(\"Tab_Active\");\\n}\\n});\\n// オッズ選択の時、オッズメニューを表示\\nif(\\'odds_view\\' == page_id){\\n// 選択されているタブをアクティブ表示\\n$(\"[id^=\\'odds_navi_\\']\").each(function(){\\nvar tab_id = $(this).prop(\\'id\\');\\n//        console.log(\\'tab_id=\\'+tab_id+\\' navi=\\'+\\'odds_navi_\\'+odds_type);\\nif(tab_id == \\'odds_navi_\\'+odds_type){\\n$(\\'#\\'+tab_id).addClass(\"Active\");\\n}\\n});\\n$(\\'#odds_menu\\').show();\\n}else{\\n$(\\'#odds_menu\\').hide();\\n}\\n})(jQuery);\\n// ページURLのパラメータ取得\\nfunction get_page_query()\\n{\\nvar query = location.search.replace(/^\\\\?/, \\'\\').split(\\'&\\');\\nvar ary_q = {};\\nfor(i=0; i<query.length; i++){\\nvar q = query[i].split(\\'=\\');\\nary_q[q[0]] = q[1];\\n}\\nreturn ary_q;\\n}\\n</script>\\n<!-- block=racev3_surf (d) -->\\n<div id=\"RaceSurf\">\\n<div class=\"FileLoader02\">\\n<div><img src=\"https://cdn.netkeiba.com/img.race.sp/common/img/common/gif-load.gif\" alt=\"\"></div>\\n</div>\\n</div>\\n<script type=\"text/javascript\" src=\"https://cdn.netkeiba.com/img.race.sp/common/js/raceapi.action.js?2015081401\"></script>\\n<script type=\"text/javascript\">\\n<!--\\nvar _raceapi_action_api_url = \"http://race.sp.netkeiba.com/\";\\n$( document ).ready( function() {\\nshowRaceV3Surf( \"RaceSurf\", \"200801010101\" );\\n} );\\n/**\\n* 空であるかどうか\\n*\\n* @param  mixd    _var 変数\\n* @return boolean      true=空である false=空ではない\\n*/\\nfunction _empty( _var )\\n{\\nif ( undefined == _var || null == _var || \\'\\' == _var )\\n{\\nreturn true;\\n}\\nreturn false;\\n}\\n// -->\\n</script>\\n<!-- block=race_result_navi (cp) -->\\n<div class=\"Tab_ResultSelect\">\\n<div class=\"Inner\">\\n<ul class=\"Col2 fc\">\\n<li><a href=\"http://race.sp.netkeiba.com/?pid=race_flash&race_id=200801010101\">ゴール後<br>30秒速報</a></li>\\n\\n\\n\\n<li class=\"Active\"><a href=\"javascript:void(0)\">着順</a></li>\\n\\n\\n\\n</ul>\\n</div>\\n</div><!-- /Tab_ResultSelect -->\\n\\n<!-- block=race_result (cp) -->\\n<script type=\"text/javascript\">\\nvar _action_api_url = \\'http://race.sp.netkeiba.com/\\';\\n</script>\\n<script type=\"text/javascript\" src=\"https://cdn.netkeiba.com/img.race.sp/common/js/social_cart.js?2017051201\"></script>\\n<div id=\"tab_ResultSelect_1_con\">\\n\\n<table summary=\"全着順\" class=\"RaceCommon_Table ResultRefund\" id=\"All_Result_Table\">\\n<tr class=\"Header\">\\n<th class=\"Result_Num\">着<br />順</th>\\n<th class=\"Num\">枠<br />番</th>\\n<th class=\"Num\">馬<br />番</th>\\n<th class=\"Horse_Info\">\\n<div class=\"Horse_Name\">馬名</div>\\n</th>\\n<th class=\"Time\">\\n<div>タイム</div>\\n</th>\\n<th class=\"Odds\">\\n<div>オッズ</div>\\n</th>\\n</tr>\\n<tr  class=\"FirstDisplay\">\\n<td class=\"Result_Num\">\\n<div class=\"Rank\">1<br />着</div>\\n</td>\\n<td class=\"Num Waku4\">\\n<div>4</div>\\n</td>\\n<td class=\"Num Waku4\">\\n<div>6</div>\\n</td>\\n<td class=\"Horse_Info\">\\n<dl>\\n<dt class=\"Horse_Name\">   <a href=\"http://db.sp.netkeiba.com/?pid=horse_profile&id=2006102194\" title=\"ディアジーナ\">ディアジーナ</a></dt>\\n<dd class=\"Horse_Info_Detail\">\\n<span class=\"Detail_Left\">\\n牝2 468(0)<br />\\n<span class=\"Norwrap\">美浦･田村</span>\\n</span>\\n<span class=\"Detail_Right\">\\n 四位<br />\\n(54.0)\\n</span>\\n</dd>\\n</dl>\\n</td>\\n<td class=\"Time\">\\n<dl>\\n<dt>1:31.0</dt>\\n<dd></dd>\\n<dd>(35.6)</dd>\\n</dl>\\n</td>\\n<td class=\"Odds\">\\n<dl>\\n<dt class=\"Odds_Ninki\">4.3倍</dt>\\n<dd>2人気</dd>\\n</dl>\\n</td>\\n</tr><tr  class=\"FirstDisplay\">\\n<td class=\"Result_Num\">\\n<div class=\"Rank\">2<br />着</div>\\n</td>\\n<td class=\"Num Waku8\">\\n<div>8</div>\\n</td>\\n<td class=\"Num Waku8\">\\n<div>14</div>\\n</td>\\n<td class=\"Horse_Info\">\\n<dl>\\n<dt class=\"Horse_Name\">   <a href=\"http://db.sp.netkeiba.com/?pid=horse_profile&id=2006101653\" title=\"アイディンパワー\">アイディンパワー</a></dt>\\n<dd class=\"Horse_Info_Detail\">\\n<span class=\"Detail_Left\">\\n牡2 460(0)<br />\\n<span class=\"Norwrap\">栗東･本田</span>\\n</span>\\n<span class=\"Detail_Right\">\\n 藤田<br />\\n(54.0)\\n</span>\\n</dd>\\n</dl>\\n</td>\\n<td class=\"Time\">\\n<dl>\\n<dt>1:31.4</dt>\\n<dd>2.1/2</dd>\\n<dd>(35.9)</dd>\\n</dl>\\n</td>\\n<td class=\"Odds\">\\n<dl>\\n<dt class=\"Odds_Ninki\">5.2倍</dt>\\n<dd>4人気</dd>\\n</dl>\\n</td>\\n</tr><tr  class=\"FirstDisplay\">\\n<td class=\"Result_Num\">\\n<div class=\"Rank\">3<br />着</div>\\n</td>\\n<td class=\"Num Waku1\">\\n<div>1</div>\\n</td>\\n<td class=\"Num Waku1\">\\n<div>1</div>\\n</td>\\n<td class=\"Horse_Info\">\\n<dl>\\n<dt class=\"Horse_Name\">   <a href=\"http://db.sp.netkeiba.com/?pid=horse_profile&id=2006104966\" title=\"ウインリーズン\">ウインリーズン</a></dt>\\n<dd class=\"Horse_Info_Detail\">\\n<span class=\"Detail_Left\">\\n牡2 442(+2)<br />\\n<span class=\"Norwrap\">美浦･加藤征</span>\\n</span>\\n<span class=\"Detail_Right\">\\n 安藤勝<br />\\n(54.0)\\n</span>\\n</dd>\\n</dl>\\n</td>\\n<td class=\"Time\">\\n<dl>\\n<dt>1:31.5</dt>\\n<dd>3/4</dd>\\n<dd>(36.4)</dd>\\n</dl>\\n</td>\\n<td class=\"Odds\">\\n<dl>\\n<dt class=\"Odds_Ninki\">3.1倍</dt>\\n<dd>1人気</dd>\\n</dl>\\n</td>\\n</tr><tr >\\n<td class=\"Result_Num\">\\n<div class=\"Rank\">4<br />着</div>\\n</td>\\n<td class=\"Num Waku7\">\\n<div>7</div>\\n</td>\\n<td class=\"Num Waku7\">\\n<div>11</div>\\n</td>\\n<td class=\"Horse_Info\">\\n<dl>\\n<dt class=\"Horse_Name\">   <a href=\"http://db.sp.netkeiba.com/?pid=horse_profile&id=2006102534\" title=\"ヴァンエボン\">ヴァンエボン</a></dt>\\n<dd class=\"Horse_Info_Detail\">\\n<span class=\"Detail_Left\">\\n牡2 482(-4)<br />\\n<span class=\"Norwrap\">栗東･山内</span>\\n</span>\\n<span class=\"Detail_Right\">\\n 小林徹<br />\\n(54.0)\\n</span>\\n</dd>\\n</dl>\\n</td>\\n<td class=\"Time\">\\n<dl>\\n<dt>1:31.6</dt>\\n<dd>クビ</dd>\\n<dd>(35.5)</dd>\\n</dl>\\n</td>\\n<td class=\"Odds\">\\n<dl>\\n<dt>23.0倍</dt>\\n<dd>8人気</dd>\\n</dl>\\n</td>\\n</tr><tr >\\n<td class=\"Result_Num\">\\n<div class=\"Rank\">5<br />着</div>\\n</td>\\n<td class=\"Num Waku2\">\\n<div>2</div>\\n</td>\\n<td class=\"Num Waku2\">\\n<div>2</div>\\n</td>\\n<td class=\"Horse_Info\">\\n<dl>\\n<dt class=\"Horse_Name\"> <span class=\"Icon_HorseMark Icon_MaruGai\"></span> <a href=\"http://db.sp.netkeiba.com/?pid=horse_profile&id=2006110090\" title=\"ラヴェリータ\">ラヴェリータ</a></dt>\\n<dd class=\"Horse_Info_Detail\">\\n<span class=\"Detail_Left\">\\n牝2 484(-20)<br />\\n<span class=\"Norwrap\">栗東･松元</span>\\n</span>\\n<span class=\"Detail_Right\">\\n 長谷川<br />\\n(54.0)\\n</span>\\n</dd>\\n</dl>\\n</td>\\n<td class=\"Time\">\\n<dl>\\n<dt>1:31.6</dt>\\n<dd>ハナ</dd>\\n<dd>(35.7)</dd>\\n</dl>\\n</td>\\n<td class=\"Odds\">\\n<dl>\\n<dt>21.9倍</dt>\\n<dd>6人気</dd>\\n</dl>\\n</td>\\n</tr><tr >\\n<td class=\"Result_Num\">\\n<div class=\"Rank\">6<br />着</div>\\n</td>\\n<td class=\"Num Waku3\">\\n<div>3</div>\\n</td>\\n<td class=\"Num Waku3\">\\n<div>3</div>\\n</td>\\n<td class=\"Horse_Info\">\\n<dl>\\n<dt class=\"Horse_Name\">   <a href=\"http://db.sp.netkeiba.com/?pid=horse_profile&id=2006104842\" title=\"ドリームクェーサー\">ドリームクェーサー</a></dt>\\n<dd class=\"Horse_Info_Detail\">\\n<span class=\"Detail_Left\">\\n牡2 452(-4)<br />\\n<span class=\"Norwrap\">栗東･西浦</span>\\n</span>\\n<span class=\"Detail_Right\">\\n 池添<br />\\n(54.0)\\n</span>\\n</dd>\\n</dl>\\n</td>\\n<td class=\"Time\">\\n<dl>\\n<dt>1:32.0</dt>\\n<dd>2.1/2</dd>\\n<dd>(36.2)</dd>\\n</dl>\\n</td>\\n<td class=\"Odds\">\\n<dl>\\n<dt class=\"Odds_Ninki\">4.6倍</dt>\\n<dd>3人気</dd>\\n</dl>\\n</td>\\n</tr><tr >\\n<td class=\"Result_Num\">\\n<div class=\"Rank\">7<br />着</div>\\n</td>\\n<td class=\"Num Waku5\">\\n<div>5</div>\\n</td>\\n<td class=\"Num Waku5\">\\n<div>7</div>\\n</td>\\n<td class=\"Horse_Info\">\\n<dl>\\n<dt class=\"Horse_Name\">   <a href=\"http://db.sp.netkeiba.com/?pid=horse_profile&id=2006102070\" title=\"ヨイチラブソング\">ヨイチラブソング</a></dt>\\n<dd class=\"Horse_Info_Detail\">\\n<span class=\"Detail_Left\">\\n牡2 464(-10)<br />\\n<span class=\"Norwrap\">美浦･菅原</span>\\n</span>\\n<span class=\"Detail_Right\">\\n△三浦<br />\\n(52.0)\\n</span>\\n</dd>\\n</dl>\\n</td>\\n<td class=\"Time\">\\n<dl>\\n<dt>1:32.0</dt>\\n<dd>ハナ</dd>\\n<dd>(36.6)</dd>\\n</dl>\\n</td>\\n<td class=\"Odds\">\\n<dl>\\n<dt>10.4倍</dt>\\n<dd>5人気</dd>\\n</dl>\\n</td>\\n</tr><tr >\\n<td class=\"Result_Num\">\\n<div class=\"Rank\">8<br />着</div>\\n</td>\\n<td class=\"Num Waku6\">\\n<div>6</div>\\n</td>\\n<td class=\"Num Waku6\">\\n<div>10</div>\\n</td>\\n<td class=\"Horse_Info\">\\n<dl>\\n<dt class=\"Horse_Name\">   <a href=\"http://db.sp.netkeiba.com/?pid=horse_profile&id=2006100705\" title=\"マキノワールド\">マキノワールド</a></dt>\\n<dd class=\"Horse_Info_Detail\">\\n<span class=\"Detail_Left\">\\n牡2 446(-6)<br />\\n<span class=\"Norwrap\">美浦･土田</span>\\n</span>\\n<span class=\"Detail_Right\">\\n 大野<br />\\n(54.0)\\n</span>\\n</dd>\\n</dl>\\n</td>\\n<td class=\"Time\">\\n<dl>\\n<dt>1:32.0</dt>\\n<dd>クビ</dd>\\n<dd>(36.0)</dd>\\n</dl>\\n</td>\\n<td class=\"Odds\">\\n<dl>\\n<dt>154.0倍</dt>\\n<dd>12人気</dd>\\n</dl>\\n</td>\\n</tr><tr >\\n<td class=\"Result_Num\">\\n<div class=\"Rank\">9<br />着</div>\\n</td>\\n<td class=\"Num Waku4\">\\n<div>4</div>\\n</td>\\n<td class=\"Num Waku4\">\\n<div>5</div>\\n</td>\\n<td class=\"Horse_Info\">\\n<dl>\\n<dt class=\"Horse_Name\">   <a href=\"http://db.sp.netkeiba.com/?pid=horse_profile&id=2006102676\" title=\"メジロデューチン\">メジロデューチン</a></dt>\\n<dd class=\"Horse_Info_Detail\">\\n<span class=\"Detail_Left\">\\n牡2 418(-8)<br />\\n<span class=\"Norwrap\">美浦･高橋裕</span>\\n</span>\\n<span class=\"Detail_Right\">\\n☆北村友<br />\\n(53.0)\\n</span>\\n</dd>\\n</dl>\\n</td>\\n<td class=\"Time\">\\n<dl>\\n<dt>1:32.1</dt>\\n<dd>クビ</dd>\\n<dd>(36.4)</dd>\\n</dl>\\n</td>\\n<td class=\"Odds\">\\n<dl>\\n<dt>111.7倍</dt>\\n<dd>11人気</dd>\\n</dl>\\n</td>\\n</tr><tr >\\n<td class=\"Result_Num\">\\n<div class=\"Rank\">10<br />着</div>\\n</td>\\n<td class=\"Num Waku8\">\\n<div>8</div>\\n</td>\\n<td class=\"Num Waku8\">\\n<div>13</div>\\n</td>\\n<td class=\"Horse_Info\">\\n<dl>\\n<dt class=\"Horse_Name\">   <a href=\"http://db.sp.netkeiba.com/?pid=horse_profile&id=2006106311\" title=\"スマイルミッキー\">スマイルミッキー</a></dt>\\n<dd class=\"Horse_Info_Detail\">\\n<span class=\"Detail_Left\">\\n牡2 474(+2)<br />\\n<span class=\"Norwrap\">栗東･松永幹</span>\\n</span>\\n<span class=\"Detail_Right\">\\n 横山典<br />\\n(54.0)\\n</span>\\n</dd>\\n</dl>\\n</td>\\n<td class=\"Time\">\\n<dl>\\n<dt>1:32.3</dt>\\n<dd>1.1/4</dd>\\n<dd>(37.0)</dd>\\n</dl>\\n</td>\\n<td class=\"Odds\">\\n<dl>\\n<dt>22.9倍</dt>\\n<dd>7人気</dd>\\n</dl>\\n</td>\\n</tr><tr >\\n<td class=\"Result_Num\">\\n<div class=\"Rank\">11<br />着</div>\\n</td>\\n<td class=\"Num Waku6\">\\n<div>6</div>\\n</td>\\n<td class=\"Num Waku6\">\\n<div>9</div>\\n</td>\\n<td class=\"Horse_Info\">\\n<dl>\\n<dt class=\"Horse_Name\">   <a href=\"http://db.sp.netkeiba.com/?pid=horse_profile&id=2006100933\" title=\"スズカフレーム\">スズカフレーム</a></dt>\\n<dd class=\"Horse_Info_Detail\">\\n<span class=\"Detail_Left\">\\n牡2 462(0)<br />\\n<span class=\"Norwrap\">栗東･橋田</span>\\n</span>\\n<span class=\"Detail_Right\">\\n 芹沢<br />\\n(54.0)\\n</span>\\n</dd>\\n</dl>\\n</td>\\n<td class=\"Time\">\\n<dl>\\n<dt>1:32.7</dt>\\n<dd>2.1/2</dd>\\n<dd>(36.6)</dd>\\n</dl>\\n</td>\\n<td class=\"Odds\">\\n<dl>\\n<dt>81.2倍</dt>\\n<dd>10人気</dd>\\n</dl>\\n</td>\\n</tr><tr >\\n<td class=\"Result_Num\">\\n<div class=\"Rank\">12<br />着</div>\\n</td>\\n<td class=\"Num Waku3\">\\n<div>3</div>\\n</td>\\n<td class=\"Num Waku3\">\\n<div>4</div>\\n</td>\\n<td class=\"Horse_Info\">\\n<dl>\\n<dt class=\"Horse_Name\">   <a href=\"http://db.sp.netkeiba.com/?pid=horse_profile&id=2006104817\" title=\"ヨシインゾーン\">ヨシインゾーン</a></dt>\\n<dd class=\"Horse_Info_Detail\">\\n<span class=\"Detail_Left\">\\n牡2 460(-4)<br />\\n<span class=\"Norwrap\">美浦･嶋田潤</span>\\n</span>\\n<span class=\"Detail_Right\">\\n 武幸<br />\\n(54.0)\\n</span>\\n</dd>\\n</dl>\\n</td>\\n<td class=\"Time\">\\n<dl>\\n<dt>1:32.7</dt>\\n<dd>クビ</dd>\\n<dd>(37.1)</dd>\\n</dl>\\n</td>\\n<td class=\"Odds\">\\n<dl>\\n<dt>46.9倍</dt>\\n<dd>9人気</dd>\\n</dl>\\n</td>\\n</tr><tr >\\n<td class=\"Result_Num\">\\n<div class=\"Rank\">13<br />着</div>\\n</td>\\n<td class=\"Num Waku5\">\\n<div>5</div>\\n</td>\\n<td class=\"Num Waku5\">\\n<div>8</div>\\n</td>\\n<td class=\"Horse_Info\">\\n<dl>\\n<dt class=\"Horse_Name\">   <a href=\"http://db.sp.netkeiba.com/?pid=horse_profile&id=2006106193\" title=\"コード\">コード</a></dt>\\n<dd class=\"Horse_Info_Detail\">\\n<span class=\"Detail_Left\">\\n牡2 466(-2)<br />\\n<span class=\"Norwrap\">美浦･高松</span>\\n</span>\\n<span class=\"Detail_Right\">\\n▲荻野琢<br />\\n(51.0)\\n</span>\\n</dd>\\n</dl>\\n</td>\\n<td class=\"Time\">\\n<dl>\\n<dt>1:32.9</dt>\\n<dd>1.1/4</dd>\\n<dd>(37.1)</dd>\\n</dl>\\n</td>\\n<td class=\"Odds\">\\n<dl>\\n<dt>163.7倍</dt>\\n<dd>13人気</dd>\\n</dl>\\n</td>\\n</tr><tr >\\n<td class=\"Result_Num\">\\n<div class=\"Rank\">14<br />着</div>\\n</td>\\n<td class=\"Num Waku7\">\\n<div>7</div>\\n</td>\\n<td class=\"Num Waku7\">\\n<div>12</div>\\n</td>\\n<td class=\"Horse_Info\">\\n<dl>\\n<dt class=\"Horse_Name\">   <a href=\"http://db.sp.netkeiba.com/?pid=horse_profile&id=2006105754\" title=\"マイネルヘリオス\">マイネルヘリオス</a></dt>\\n<dd class=\"Horse_Info_Detail\">\\n<span class=\"Detail_Left\">\\n牡2 440(+2)<br />\\n<span class=\"Norwrap\">美浦･粕谷</span>\\n</span>\\n<span class=\"Detail_Right\">\\n 津村<br />\\n(54.0)\\n</span>\\n</dd>\\n</dl>\\n</td>\\n<td class=\"Time\">\\n<dl>\\n<dt>1:33.4</dt>\\n<dd>3</dd>\\n<dd>(38.2)</dd>\\n</dl>\\n</td>\\n<td class=\"Odds\">\\n<dl>\\n<dt>227.4倍</dt>\\n<dd>14人気</dd>\\n</dl>\\n</td>\\n</tr>\\n</table>\\n<div id=\"Trigger\" class=\"Result_Show_Btn\">\\n<a title=\"全着順を見る\" class=\"Button_01\">全着順を見る</a>\\n</div>\\n<script type=\"text/javascript\">\\n$(function ( ) {\\n$(\"#Trigger a\").click(function() {\\n$(\"#All_Result_Table\").addClass(\"Table_Show_All\");\\n$(\"#Trigger\").hide();\\n});\\n});\\n</script>\\n<div class=\"Result_Btn_Box_01\">\\n<ul class=\"Col2 fc\">\\n<li class=\"Race_Movie\">\\n<a href=\"http://race.sp.netkeiba.com/?pid=race_movie&race_id=200801010101\" title=\"レース映像\">\\n<span>レース映像</span>\\n</a>\\n\\n</li>\\n<li class=\"Race_Photo\">\\n<a id=\"race_photo_on\" href=\"http://race.sp.netkeiba.com/?pid=race_photo&race_id=200801010101\" title=\"ゴール前写真\" style=\"display:none\">\\n<span>ゴール前写真</span>\\n</a>\\n<div id=\"race_photo_off\" class=\"No_Link\" style=\"display: block\">\\n<div class=\"No_Link_Btn\">\\n<span>ゴール前写真</span>\\n</div><!-- /.No_Link_Btn -->\\n</div>\\n</li>\\n</ul>\\n</div><!-- /.Result_Btn_Box_01 -->\\n<div class=\"Result_Pay_Back mb18\">\\n<div class=\"Title_Sec\">\\n<h2>払戻金</h2>\\n</div><!-- //class=\"Title\" -->\\n<table summary=\"払戻し\" class=\"Payout_Detail_Table\">\\n<tr class=\"Tansho\">\\n<th>単勝</th>\\n<td  class=\"Result\">\\n<span>6</span>\\u3000\\n\\n<br>\\n</td>\\n<td class=\"Payout\"><span>430円</span></td>\\n<td class=\"Ninki\">\\n<span>2人気</span>\\n</td>\\n</tr>\\n<tr class=\"Fukusho\">\\n<th>複勝</th>\\n<td  class=\"Result\">\\n<span>6</span>\\n<span></span>\\n<span><br></span><span>14</span>\\n<span></span>\\n<span><br></span><span>1</span>\\n<span></span>\\n<span><br></span>\\n</td>\\n<td class=\"Payout\"><span>140円<br />170円<br />140円</span></td>\\n<td class=\"Ninki\">\\n<span>1人気</span><span>4人気</span><span>2人気</span>\\n</td>\\n</tr>\\n<tr class=\"Wakuren\">\\n<th>枠連</th>\\n<td  class=\"Result\">\\n<ul>\\n<li><span>4</span></li>\\n<li><span>8</span></li>\\n<li><br></li>\\n</ul>\\n</td>\\n<td class=\"Payout\"><span>780円</span></td>\\n<td class=\"Ninki\">\\n<span>4人気</span>\\n</td>\\n</tr>\\n<tr class=\"Umaren\">\\n<th>馬連</th>\\n<td  class=\"Result\">\\n<ul>\\n<li><span>6</span></li>\\n<li><span>14</span></li>\\n<li><br></li>\\n</ul>\\n</td>\\n<td class=\"Payout\"><span>1,120円</span></td>\\n<td class=\"Ninki\">\\n<span>5人気</span>\\n</td>\\n</tr>\\n<tr class=\"Wide\">\\n<th>ワイド</th>\\n<td  class=\"Result\">\\n<ul>\\n<li><span>6</span></li>\\n<li><span>14</span></li>\\n<li><br></li>\\n</ul><ul>\\n<li><span>1</span></li>\\n<li><span>6</span></li>\\n<li><br></li>\\n</ul><ul>\\n<li><span>1</span></li>\\n<li><span>14</span></li>\\n<li><br></li>\\n</ul>\\n</td>\\n<td class=\"Payout\"><span>410円<br />260円<br />440円</span></td>\\n<td class=\"Ninki\">\\n<span>4人気</span><span>1人気</span><span>6人気</span>\\n</td>\\n</tr>\\n<tr class=\"Umatan\">\\n<th>馬単</th>\\n<td  class=\"Result\">\\n<ul>\\n<li><span>6</span></li>\\n<li><span>14</span></li>\\n<li><br></li>\\n</ul>\\n</td>\\n<td class=\"Payout\"><span>2,030円</span></td>\\n<td class=\"Ninki\">\\n<span>8人気</span>\\n</td>\\n</tr>\\n<tr class=\"Fuku3\">\\n<th>3連複</th>\\n<td  class=\"Result\">\\n<ul>\\n<li><span>1</span></li>\\n<li><span>6</span></li>\\n<li><span>14<br></span></li>\\n</ul>\\n</td>\\n<td class=\"Payout\"><span>1,190円</span></td>\\n<td class=\"Ninki\">\\n<span>2人気</span>\\n</td>\\n</tr>\\n<tr class=\"Tan3\">\\n<th>3連単</th>\\n<td  class=\"Result\">\\n<ul>\\n<li><span>6</span></li>\\n<li><span>14</span></li>\\n<li><span>1<br></span></li>\\n</ul>\\n</td>\\n<td class=\"Payout\"><span>7,100円</span></td>\\n<td class=\"Ninki\"><span>15人気</span></td>\\n</tr>\\n</table>\\n</div><!-- /.Result_Pay_Back -->\\n<div class=\"Contents_Box Top_RaceDigest\" id=\"JraDigest\"></div>\\n<script src=\"https://cdn.netkeiba.com/img.race.sp/common/js/jquery.lazyscript.js\"></script>\\n<script type=\"text/javascript\">\\nvar _api_news_netkeiba_url = \\'https://news.sp.netkeiba.com/\\';\\n$(function(){\\nconsole.log(\\'api_get_jra_digest\\');\\nvar options = {\\ntype: \\'visible\\',\\nid: \\'JraDigest\\',\\nscripts: [],\\nsuccess: function () {\\nvar _data = {\\npid : \\'api_get_jra_digest\\',\\ninput : \\'UTF-8\\',\\noutput : \\'jsonp\\',\\nrf: \\'race_result\\'\\n};\\n$.ajax({\\ntype : \\'GET\\',\\nurl : _api_news_netkeiba_url,\\ndata : _data,\\ndataType : _data.output,\\nsuccess : function(data){\\n$(\\'#JraDigest\\').html(data);\\n},\\nerror : function(XMLHttpRequest,textStatus,errorThrown){\\nconsole.log(\\'XMLHttpRequest:\\'+XMLHttpRequest.status);\\nconsole.log(\\'textStatus:\\'+textStatus);\\nconsole.log(\\'errorThrown:\\'+errorThrown.message);\\n}\\n});\\n}\\n};\\n$.lazyscript(options);\\n});\\n</script>\\n<div class=\"Race_ResultBox mb18\">\\n<div class=\"Title_Sec Border_Bottom\">\\n<h2>コーナー通過順位</h2>\\n</div><!-- //class=\"Title\" -->\\n<table summary=\"コーナー通過順位\" class=\"RaceCommon_Table Corner_Num\">\\n<tr>\\n<th><strong>1</strong>コーナー</th>\\n<td></td>\\n</tr>\\n<tr>\\n<th><strong>2</strong>コーナー</th>\\n<td>1(6,12)(4,7,13)(2,5,8,14)(3,9)(11,10)</td>\\n</tr>\\n<tr>\\n<th><strong>3</strong>コーナー</th>\\n<td>(*1,12)(6,7,13)14(4,5)(8,3)(2,10)(11,9)</td>\\n</tr>\\n<tr>\\n<th><strong>4</strong>コーナー</th>\\n<td>1(12,13,14)6(7,3)4(2,5,10)8(11,9)</td>\\n</tr>\\n</table>\\n</div><!-- /.Race_ResultBox -->\\n<div class=\"Race_ResultBox\">\\n<div class=\"Title_Sec Border_Bottom\">\\n<h2>ラップタイム</h2>\\n</div><!-- //class=\"Title\" -->\\n<table summary=\"ラップタイム\" class=\"RaceCommon_Table Race_HaronTime\">\\n<tr class=\"Header\">\\n<th>100m</th>\\n<th>300m</th>\\n<th>500m</th>\\n<th>700m</th>\\n</tr>\\n<tr class=\"HaronTime\">\\n<td>07.0<br />7.0</td>\\n<td>18.4<br />11.4</td>\\n<td>30.1<br />11.7</td>\\n<td>42.4<br />12.3</td>\\n</tr><tr class=\"Header\">\\n<th>900m</th>\\n<th>1100m</th>\\n<th>1300m</th>\\n<th>1500m</th>\\n</tr>\\n<tr class=\"HaronTime\">\\n<td>55.1<br />12.7</td>\\n<td>1:07.4<br />12.3</td>\\n<td>1:19.2<br />11.8</td>\\n<td>1:31.0<br />11.8</td>\\n</tr>\\n</table>\\n<p class=\"Txt\">※上段：通過タイム、下段：ラップタイム</p>\\n</div><!-- /.Race_ResultBox -->\\n</div><!-- //id=\"tab_ResultSelect_1_con\" class=\"Result_Passage\" -->\\n<div class=\"Result_Note mb05\">\\n<p>※結果・成績・オッズなどのデータは、必ず主催者発表のものと照合しご確認ください。</p>\\n</div>\\n<div class=\"Shutuba_Update_Time mb10\">\\n<dl>\\n<dt>映像の公開時間・リンク先のご説明</dt>\\n<dd>\\n<table class=\"Update_Time_Table\">\\n<tr class=\"Header\">\\n<th colspan=\"2\">平場レース(未勝利戦など)</th>\\n</tr>\\n<tr>\\n<th>午前の<br>レース</th>\\n<td>12時30分頃</td>\\n</tr>\\n<tr>\\n<th>午後の<br>レース</th>\\n<td>その日の最終レース後約40分程度<br>(例：16:25が最終レースなら17:05頃)</td>\\n</tr>\\n</table>\\n<p class=\"Note\">※ご視聴はスーパープレミアムコースご登録のお客様が対象となります。</p>\\n<table class=\"Update_Time_Table\">\\n<tr class=\"Header\">\\n<th>新馬・特別レース</th>\\n</tr>\\n<tr>\\n<td>レース後30分ほど</td>\\n</tr>\\n</table>\\n</dd>\\n</dl>\\n</div>\\n<script>\\n$(function() {\\n$(\\'.Shutuba_Update_Time dl dt\\').append(\\'<span class=\"Icon_ArrowB\"></span>\\');\\n$(\\'.Shutuba_Update_Time dl dt\\').click(function() {\\n$(\\'.Shutuba_Update_Time dl dt > span\\').toggleClass(\\'Icon_ArrowT\\').toggleClass(\\'Icon_ArrowB\\')\\n$(\\'+ dd\\', this).slideToggle(\\'fast\\');\\n});\\n// ゴール前写真の存在チェック 2018.10.23 Y.S\\nvar img_review = \\'https://cdn.netkeiba.com/img/race/review/2008/200801010101.jpg\\';\\nexist_image( img_review, function( ret ){\\nconsole.log(\\'img_review,: %s ret: %s\\',img_review,ret);\\nif(true === ret){\\n$(\\'#race_photo_on\\').css(\\'display\\',\\'block\\');\\n$(\\'#race_photo_off\\').css(\\'display\\',\\'none\\');\\n}else{\\n$(\\'#race_photo_on\\').css(\\'display\\',\\'none\\');\\n$(\\'#race_photo_off\\').css(\\'display\\',\\'block\\');\\n}\\n});\\n//------------------------------------------------------------\\nfunction exist_image( url, fn ){\\n$.ajax({\\ntype: \"HEAD\",\\nurl: url,\\n}).done(function(data, textStatus, jqXHR){\\nreturn (200 === jqXHR.status) ? fn(true) : fn(false);\\n}).fail(function(jqXHR, textStatus, errorThrown){\\nreturn fn(false);\\n});\\n;\\n}\\n});\\n</script>\\n\\n<!-- block=ad_dfp (d) -->\\n\\n<div class=\"nk_AdvBox_sp_01\">\\n<div id=\\'sp_nk_data_001\\' style=\"text-align:center;\">\\n<script>\\ngoogletag.cmd.push(function() {\\nvar mapping = googletag.sizeMapping().addSize([336,0], [[336,280],[300,250],[320,180],[1,1]]).addSize([0,0], [[300,250],[320,180],[1,1]]).build();\\ngoogletag.defineSlot(\\'/21246805/sp_nk_data_001\\', [[300,250],[336,280],[320,180],[1,1]], \\'sp_nk_data_001\\').defineSizeMapping(mapping).addService(googletag.pubads()).setCollapseEmptyDiv(true,true);\\ngoogletag.enableServices();\\ngoogletag.display(\\'sp_nk_data_001\\');\\n});\\n</script>\\n</div>\\n</div>\\n\\n\\n\\n<!-- block=ad_for_apl (d) -->\\n\\n<!-- block=umai_goods_list (d) -->\\n<link href=\"https://cdn.netkeiba.com/img.yoso.sp/common/css/umai_area01.css?2018031201\" rel=\"stylesheet\" type=\"text/css\" media=\"all\">\\n<div class=\"Contents_Box mb00\">\\n<div class=\"Contents_Header\">\\n<div class=\"Title_Sec Border_Bottom\">\\n<h2>厳選予想 ウマい馬券</h2>\\n</div>\\n<div id=\"delay_umai_baken\">\\n<div id=\"umai_hitting_report\">\\n<div class=\"FileLoader\"><img src=\"https://cdn.netkeiba.com/img.race.sp/common/img/common/gif-load.gif\"></div>\\n</div>\\n<div id=\"goods_view\">\\n<div class=\"FileLoader\"><img src=\"https://cdn.netkeiba.com/img.race.sp/common/img/common/gif-load.gif\"></div>\\n</div>\\n</div>\\n<script src=\"https://cdn.netkeiba.com/img.yoso.sp/common/js/social_cart.js?2017082401\" type=\"text/javascript\"></script>\\n<script type=\"text/javascript\">\\nYosoJra = new YosoJra(\\'http://yoso.sp.netkeiba.com/\\'); //yoso.action.jsをオブジェクト化\\nvar _show_id = \\'goods_view\\';\\nvar _race_id = \\'200801010101\\';\\nvar _sort = \\'\\';\\t// defualt\\nvar _limit =100;\\nvar _return_url = \\'http%3A%2F%2Frace.sp.netkeiba.com%2F%3Fpid%3Drace_result%26race_id%3D200801010101\\';\\n</script>\\n<script src=\"https://cdn.netkeiba.com/img.race.sp/common/js/jquery.lazyscript.js\"></script>\\n<script type=\"text/javascript\">\\n<!--\\n$( document ).ready( function() {\\nvar options = {\\ntype: \"visible\",\\nid: \"delay_umai_baken\",\\nscripts: [\\n],\\nsuccess: function () {\\nYosoJra.ShowHittingReport(\\'umai_hitting_report\\',\\'\\');\\nYosoJra.ShowGoodsListJraRace(_show_id, _race_id, _sort, _limit, _return_url);\\n}\\n};\\n$.lazyscript(options);\\n} );\\n// -->\\n</script>\\n</div>\\n</div>\\n<!-- block=shutuba_race_menu (cp) -->\\n<div class=\"Contents_Box\">\\n<div class=\"Contents_Header Border\">\\n<div class=\"Title_Sec Border_Bottom\">\\n<h2>２歳未勝利メニュー</h2>\\n</div><!-- / .Title -->\\n</div>\\n<div class=\"Race_CategoryMenu\">\\n<ul class=\"Col4 fc\">\\n<li><a href=\"http://race.sp.netkeiba.com/?pid=bet&race_id=200801010101\"><span class=\"Icon_Sprite_Nk Icon_RaceInfo16\"></span>IPAT連携</a></li>\\n<li><a href=\"http://race.sp.netkeiba.com/?pid=oikiri&race_id=200801010101\"><span class=\"Icon_Sprite_Nk Icon_RaceInfo09\"></span>調教タイム</a></li>\\n<li><a href=\"http://race.sp.netkeiba.com/?pid=comment&race_id=200801010101\"><span class=\"Icon_Sprite_Nk Icon_RaceInfo08\"></span>厩舎<span style=\"letter-spacing:-2px;\">コメント</span></a></li>\\n<li><a href=\"http://race.sp.netkeiba.com/?pid=data_top3&race_id=200801010101\"><span class=\"Icon_Sprite_Nk Icon_RaceInfo07\"></span>馬券分析</a></li>\\n<li><a href=\"http://race.sp.netkeiba.com/?pid=speed&race_id=200801010101\"><span class=\"Icon_Sprite_Nk Icon_RaceInfo10\"></span>タイム指数</a></li>\\n<li><a href=\"http://race.sp.netkeiba.com/v2/barometer/score.html?race_id=200801010101\"><span class=\"Icon_Sprite_Nk Icon_RaceInfo35\"></span>調子偏差値</a></li>\\n<li><a href=\"http://race.sp.netkeiba.com/?pid=bias&race_id=200801010101\"><span class=\"Icon_Sprite_Nk Icon_RaceInfo11\"></span>血統分析</a></li>\\n<li><a href=\"http://race.sp.netkeiba.com/?pid=race_movie&race_id=200801010101\"><span class=\"Icon_Sprite_Nk Icon_RaceInfo13\"></span>レース映像</a></li>\\n<li><a href=\"http://race.sp.netkeiba.com/?pid=oikiri_movie&race_id=200801010101\"><span class=\"Icon_Sprite_Nk Icon_RaceInfo28\"></span>調教映像</a></li>\\n<li><a href=\"http://race.sp.netkeiba.com/?pid=bbs&race_id=200801010101\"><span class=\"Icon_Sprite_Nk Icon_RaceInfo14\"></span>掲示板</a></li>\\n<li><a href=\"http://orepro.netkeiba.com/bet/shutuba.html?race_id=200801010101&mode=init\"><span class=\"Icon_Sprite_Nk Icon_RaceInfo34\"></span>俺プロ</a></li>\\n<li><a href=\"http://race.sp.netkeiba.com/?pid=special&race_id=200801010101\"><span class=\"Icon_Sprite_Nk Icon_RaceInfo12\"></span>特集</a></li>\\n</ul>\\n</div><!-- /.RaceMenu_Navi -->\\n</div>\\n<!-- block=race_column_list (d) -->\\n<style type=\"text/css\">\\n.PickUpContentsArea ul.Related_Column li:nth-child(n+4) {\\ndisplay: none;\\n}\\n</style>\\n<div class=\"PickUpContentsArea\">\\n<div class=\"Title_Sec Border_Bottom Border_Top\">\\n<h2>ピックアップ・コンテンツ</h2>\\n</div><!-- /.Title_Sec -->\\n<ul class=\"Related_Column\">\\n<li>\\n<a class=\"Icon_Link\" href=\"http://yoso.sp.netkeiba.com/?pid=yoso_campaign&id=2018_JAPANCUP&rf=race_pickup\" title=\"アーモンドアイの信頼度は？草野仁や井内利彰のレース展望を公開中！\">\\n<div class=\"Column_Box_Inner fc\">\\n<div class=\"PhotoThumb\">\\n<img class=\"column_title_image_m\" src=\"https://cdn.netkeiba.com/img.news/style/netkeiba.ja/image/column/legend/181123_umai_100JC.jpg\" alt=\"アーモンドアイの信頼度は？草野仁や井内利彰のレース展望を公開中！\" width=\"100\">\\n</div>\\n<div class=\"Column_Content\">\\n<span class=\"Column_Tag\">ウマい馬券</span>\\n<p class=\"PickupTitle\">アーモンドアイの信頼度は？草野仁や井内利彰のレース展望を公開中！</p>\\n</div>\\n</div>\\n</a>\\n</li>\\n<li>\\n<a class=\"Icon_Link\" href=\"http://race.sp.netkeiba.com/v2/barometer/profile.html?rf=race_pickup\" title=\"好調穴馬を探せ！役立つ予想ツール『調子偏差値』\">\\n<div class=\"Column_Box_Inner fc\">\\n<div class=\"PhotoThumb\">\\n<img class=\"column_title_image_m\" src=\"http://cimg2.news.netkeiba.com/style/netkeiba.ja/image/column/legend/181005_tyousi_100_59www.jpg\" alt=\"(金)好調穴馬を探せ！役立つ予想ツール『調子偏差値』\" width=\"100\">\\n</div>\\n<div class=\"Column_Content\">\\n<span class=\"Column_Tag\">調子偏差値</span>\\n<p class=\"PickupTitle\">好調穴馬を探せ！役立つ予想ツール『調子偏差値』</p>\\n</div>\\n</div>\\n</a>\\n</li>\\n<!--li>\\n<a class=\"Icon_Link\" href=\"https://news.sp.netkeiba.com/?pid=column_view&wid=A03&rf=race_pickup\" title=\"大種牡馬ノーザンダンサーの「血は生きている」/マイルCS\">\\n<div class=\"Column_Box_Inner fc\">\\n<div class=\"PhotoThumb\">\\n<img class=\"column_title_image_m\" src=\"https://cdn.netkeiba.com/img/column/writer/column_banner_A03_s.1.0.jpg\" alt=\"(土)大種牡馬ノーザンダンサーの「血は生きている」/マイルCS\" width=\"100\">\\n</div>\\n<div class=\"Column_Content\">\\n<span class=\"Column_Tag\">日曜メイン展望</span>\\n<p class=\"PickupTitle\">大種牡馬ノーザンダンサーの「血は生きている」/マイルCS</p>\\n</div>\\n</div>\\n</a>\\n</li>\\n<li>\\n<a class=\"Icon_Link\" href=\"https://news.sp.netkeiba.com/?pid=column_view&wid=CH51&rf=race_pickup\" title=\"【マイルCS2018予想】実力が拮抗してきた今、勝敗を分けるポイントとは!?\">\\n<div class=\"Column_Box_Inner fc\">\\n<div class=\"PhotoThumb\">\\n<img class=\"column_title_image_m\" src=\"https://cdn.netkeiba.com/img/column/writer/column_banner_CH51_s.1.0.jpg\" alt=\"(金)【マイルCS2018予想】実力が拮抗してきた今、勝敗を分けるポイントとは!?\" width=\"100\">\\n</div>\\n<div class=\"Column_Content\">\\n<span class=\"Column_Tag\">動画</span>\\n<p class=\"PickupTitle\">【マイルCS2018予想】実力が拮抗してきた今、勝敗を分けるポイントとは!?</p>\\n</div>\\n</div>\\n</a>\\n</li>\\n<li>\\n<a class=\"Icon_Link\" href=\"https://news.sp.netkeiba.com/?pid=column_view&wid=CH43&rf=race_pickup\" title=\"ついに長いものに巻かれてみた！/マイルCS\">\\n<div class=\"Column_Box_Inner fc\">\\n<div class=\"PhotoThumb\">\\n<img class=\"column_title_image_m\" src=\"https://cdn.netkeiba.com/img/column/writer/column_banner_CH43_s.1.0.jpg\" alt=\"(金)ついに長いものに巻かれてみた！/マイルCS\" width=\"100\">\\n</div>\\n<div class=\"Column_Content\">\\n<span class=\"Column_Tag\">消去法予想</span>\\n<p class=\"PickupTitle\">ついに長いものに巻かれてみた！/マイルCS</p>\\n</div>\\n</div>\\n</a>\\n</li>\\n<li>\\n<a class=\"Icon_Link\" href=\"https://news.sp.netkeiba.com/?pid=column_view&wid=CH41&rf=race_pickup\" title=\"豪華メンバーが揃い、予想が面白くなった今年のマイルCS\">\\n<div class=\"Column_Box_Inner fc\">\\n<div class=\"PhotoThumb\">\\n<img class=\"column_title_image_m\" src=\"https://cdn.netkeiba.com/img/column/writer/column_banner_CH41_s.1.0.jpg\" alt=\"(金)豪華メンバーが揃い、予想が面白くなった今年のマイルCS\" width=\"100\">\\n</div>\\n<div class=\"Column_Content\">\\n<span class=\"Column_Tag\">メインレース攻略</span>\\n<p class=\"PickupTitle\">豪華メンバーが揃い、予想が面白くなった今年のマイルCS</p>\\n</div>\\n</div>\\n</a>\\n</li-->\\n<li>\\n<a class=\"Icon_Link\" href=\"https://news.sp.netkeiba.com/?pid=column_view&wid=CH46&rf=race_pickup\" title=\"軽い芝二四の舞台設定を味方に出来る馬は!?/ジャパンC\">\\n<div class=\"Column_Box_Inner fc\">\\n<div class=\"PhotoThumb\">\\n<img class=\"column_title_image_m\" src=\"https://cdn.netkeiba.com/img/column/writer/column_banner_CH46_s.1.0.jpg\" alt=\"(木)軽い芝二四の舞台設定を味方に出来る馬は!?/ジャパンC\" width=\"100\">\\n</div>\\n<div class=\"Column_Content\">\\n<span class=\"Column_Tag\">激走馬推奨</span>\\n<p class=\"PickupTitle\">軽い芝二四の舞台設定を味方に出来る馬は!?/ジャパンC</p>\\n</div>\\n</div>\\n</a>\\n</li>\\n<li>\\n<a class=\"Icon_Link\" href=\"https://news.sp.netkeiba.com/?pid=column_view&wid=AY01&rf=race_pickup\" title=\"三冠牝馬と古馬牡馬が激突、JC有力馬の追い切り情報!!\">\\n<div class=\"Column_Box_Inner fc\">\\n<div class=\"PhotoThumb\">\\n<img class=\"column_title_image_m\" src=\"http://cimg2.news.netkeiba.com/style/netkeiba.ja/image/column/iuchi/181121_001.jpg\" alt=\"(水)三冠牝馬と古馬牡馬が激突、JC有力馬の追い切り情報!!\" width=\"100\">\\n</div>\\n<div class=\"Column_Content\">\\n<span class=\"Column_Tag\">調教診断</span>\\n<p class=\"PickupTitle\">三冠牝馬と古馬牡馬が激突、JC有力馬の追い切り情報!!</p>\\n</div>\\n</div>\\n</a>\\n</li>\\n<li>\\n<a class=\"Icon_Link\" href=\"https://news.sp.netkeiba.com/?pid=column_view&wid=D01&rf=race_pickup\" title=\"ジャパンカップにおける牝馬/ジャパンC\">\\n<div class=\"Column_Box_Inner fc\">\\n<div class=\"PhotoThumb\">\\n<img class=\"column_title_image_m\" src=\"https://cdn.netkeiba.com/img/column/writer/column_banner_D01_s.1.0.jpg\" alt=\"(火)ジャパンカップにおける牝馬/ジャパンC\" width=\"100\">\\n</div>\\n<div class=\"Column_Content\">\\n<span class=\"Column_Tag\">データ分析</span>\\n<p class=\"PickupTitle\">ジャパンカップにおける牝馬/ジャパンC</p>\\n</div>\\n</div>\\n</a>\\n</li>\\n<li>\\n<a class=\"Icon_Link\" href=\"https://news.sp.netkeiba.com/?pid=column_view&wid=CH20&rf=race_pickup\" title=\"“心の支え”安藤勝己元騎手\\u3000大先輩との素敵なエピソード\">\\n<div class=\"Column_Box_Inner fc\">\\n<div class=\"PhotoThumb\">\\n<img class=\"column_title_image_m\" src=\"http://cimg2.news.netkeiba.com/style/netkeiba.ja/image/column/komaki/181120_01.jpg\" alt=\"(火)“心の支え”安藤勝己元騎手\\u3000大先輩との素敵なエピソード\" width=\"100\">\\n</div>\\n<div class=\"Column_Content\">\\n<span class=\"Column_Tag\">小牧太</span>\\n<p class=\"PickupTitle\">“心の支え”安藤勝己元騎手\\u3000大先輩との素敵なエピソード</p>\\n</div>\\n</div>\\n</a>\\n</li>\\n<li>\\n<a class=\"Icon_Link\" href=\"https://news.sp.netkeiba.com/?pid=column_view&wid=A01&rf=race_pickup\" title=\"成長して自在性を増し、名手に導かれての快勝/マイルCS\">\\n<div class=\"Column_Box_Inner fc\">\\n<div class=\"PhotoThumb\">\\n<img class=\"column_title_image_m\" src=\"https://cdn.netkeiba.com/img/column/writer/column_banner_A01_s.1.0.jpg\" alt=\"(月)成長して自在性を増し、名手に導かれての快勝/マイルCS\" width=\"100\">\\n</div>\\n<div class=\"Column_Content\">\\n<span class=\"Column_Tag\">重賞レース回顧</span>\\n<p class=\"PickupTitle\">成長して自在性を増し、名手に導かれての快勝/マイルCS</p>\\n</div>\\n</div>\\n</a>\\n</li>\\n<li>\\n<a class=\"Icon_Link\" href=\"https://news.sp.netkeiba.com/?pid=column_view&wid=CH66&rf=race_pickup\" title=\"席巻の外国人名手パワーで、セオリーは不成立？/マイルCS\">\\n<div class=\"Column_Box_Inner fc\">\\n<div class=\"PhotoThumb\">\\n<img class=\"column_title_image_m\" src=\"https://cdn.netkeiba.com/img/column/writer/column_banner_CH66_s.1.0.jpg\" alt=\"(月)席巻の外国人名手パワーで、セオリーは不成立？/マイルCS\" width=\"100\">\\n</div>\\n<div class=\"Column_Content\">\\n<span class=\"Column_Tag\">検証</span>\\n<p class=\"PickupTitle\">席巻の外国人名手パワーで、セオリーは不成立？/マイルCS</p>\\n</div>\\n</div>\\n</a>\\n</l>\\n<li>\\n<a class=\"Icon_Link\" href=\"https://news.sp.netkeiba.com/?pid=column_view&wid=CH29&rf=race_pickup\" title=\"上位馬が一長一短で拮抗！/ジャパンカップ\">\\n<div class=\"Column_Box_Inner fc\">\\n<div class=\"PhotoThumb\">\\n<img class=\"column_title_image_m\" src=\"https://cdn.netkeiba.com/img/column/writer/column_banner_CH29_s.1.0.jpg\" alt=\"(日)上位馬が一長一短で拮抗！/ジャパンカップ\" width=\"100\">\\n</div>\\n<div class=\"Column_Content\">\\n<span class=\"Column_Tag\">データ分析</span>\\n<p class=\"PickupTitle\">上位馬が一長一短で拮抗！/ジャパンカップ</p>\\n</div>\\n</div>\\n</a>\\n</li>\\n<li>\\n<a class=\"Icon_Link\" href=\"https://news.sp.netkeiba.com/?pid=column_view&wid=CH54&rf=race_pickup\" title=\"外国馬の参戦が過去最少タイ\\u3000ジャパンCの注目度を本気で回復させるなら\">\\n<div class=\"Column_Box_Inner fc\">\\n<div class=\"PhotoThumb\">\\n<img class=\"column_title_image_m\" src=\"https://cdn.netkeiba.com/img/column/writer/column_banner_CH54_s.1.0.jpg\" alt=\"(月)外国馬の参戦が過去最少タイ\\u3000ジャパンCの注目度を本気で回復させるなら\" width=\"100\">\\n</div>\\n<div class=\"Column_Content\">\\n<span class=\"Column_Tag\">競馬界の“今”</span>\\n<p class=\"PickupTitle\">外国馬の参戦が過去最少タイ\\u3000ジャパンCの注目度を本気で回復させるなら</p>\\n</div>\\n</div>\\n</a>\\n</li>\\n<li>\\n</ul>\\n<div class=\"LinkBtn_03\" id=\"Trigger1\">\\n<a href=\"#\" class=\"LinkBtn_More\">\\n<span class=\"Icon_More02\">もっと見る</span>\\n</a>\\n</div>\\n</div><!-- /.PickUpContentsArea -->\\n<script type=\"text/javascript\">\\n$(function ( ) {\\n$(\"#Trigger1 a\").click(function() {\\n$(\".PickUpContentsArea ul.Related_Column li:nth-child(n+4)\").slideDown(\"fast\");\\n$(\\'.PickUpContentsArea\\').addClass(\\'mb18\\');\\n$(\"#Trigger1\").hide();\\nreturn false;\\n});\\n})\\n</script>\\n\\n<!-- block=ad_dfp (d) -->\\n\\n\\n<div class=\"nk_AdvBox_sp_01\">\\n<div id=\\'sp_nk_data_002\\' style=\"text-align:center;\">\\n<script>\\ngoogletag.cmd.push(function() {\\nvar mapping = googletag.sizeMapping().addSize([336,0], [[336,280],[300,250],[320,180],[1,1]]).addSize([0,0], [[300,250],[320,180],[1,1]]).build();\\ngoogletag.defineSlot(\\'/21246805/sp_nk_data_002\\', [[300,250],[336,280],[320,180],[1,1]], \\'sp_nk_data_002\\').defineSizeMapping(mapping).addService(googletag.pubads()).setCollapseEmptyDiv(true,true);\\ngoogletag.enableServices();\\ngoogletag.display(\\'sp_nk_data_002\\');\\n});\\n</script>\\n</div>\\n</div>\\n\\n\\n<!-- block=ad_for_apl (d) -->\\n\\n<!-- block=race_list_menu (d) -->\\n<script type=\"text/javascript\" src=\"https://cdn.netkeiba.com/img.race.sp/common/js/race/race_list_menu.js?2017040701\"></script>\\n<script type=\"text/javascript\" src=\"https://cdn.netkeiba.com/img.race.sp/common/js/race/api_ipat.action.js?2015091001\"></script>\\n<script src=\"https://cdn.netkeiba.com/img.race.sp/common/js/jquery.fancybox.pack.js?2015091001\" type=\"text/javascript\"></script>\\n<link rel=\"stylesheet\" href=\"https://cdn.netkeiba.com/img.race.sp/common/css/jquery.fancybox.css?2015081401\" type=\"text/css\" media=\"screen\" />\\n<script type=\"text/javascript\">\\nvar _action_api_url = \\'http://race.sp.netkeiba.com/\\';\\n</script>\\n<div class=\"Contents_Box Top_RaceMenu\">\\n<div class=\"Contents_Header Border\">\\n<div class=\"Title_Sec Border_Bottom\">\\n<h2>レースメニュー</h2>\\n</div><!-- / .Title -->\\n</div><!-- / .Contents_Header -->\\n<div class=\"Top_RaceMenu_Inner\">\\n<ul class=\"Btn_List_01 Col3 fc\">\\n<li>\\n<a href=\"http://race.sp.netkeiba.com/?pid=race_calendar\" title=\"開催一覧\">\\n<span class=\"Icon_Nk Icon_Nk_07\"></span>\\n開催一覧\\n</a>\\n</li>\\n<li>\\n<a href=\"http://race.sp.netkeiba.com/?pid=payback_list\" title=\"結果・払戻\">\\n<span class=\"Icon_Nk Icon_Nk_08\"></span>\\n結果・払戻\\n</a>\\n</li>\\n<li>\\n<a href=\"http://race.sp.netkeiba.com/?pid=schedule\" title=\"重賞日程\">\\n<span class=\"Icon_Nk Icon_Nk_09\"></span>\\n重賞日程\\n</a>\\n</li>\\n<li>\\n<a href=\"http://race.sp.netkeiba.com/?pid=win5\" title=\"WIN5対象レース\">\\n<span class=\"Icon_Nk Icon_Nk_10\"></span>\\n今週のWIN5\\n</a>\\n</li>\\n<li>\\n<a href=\"http://race.sp.netkeiba.com/?pid=race_tendency\" title=\"レース傾向\">\\n<span class=\"Icon_Nk Icon_Nk_11\"></span>\\nレース傾向\\n</a>\\n</li>\\n<li>\\n<a href=\"http://race.sp.netkeiba.com/?pid=race_thisweek\" title=\"騎乗騎手/出走馬\">\\n<span class=\"Icon_Nk Icon_Nk_12\"></span>\\n騎乗騎手一覧\\n</a>\\n</li>\\n<li>\\n<a href=\"http://race.sp.netkeiba.com/?pid=bookmark\" title=\"お気に入り馬\">\\n<span class=\"Icon_Nk Icon_Nk_16\"></span>\\nお気に入り馬\\n</a>\\n</li>\\n<li>\\n<a href=\"http://race.sp.netkeiba.com/?pid=out_jockey\" title=\"騎乗停止情報\">\\n<span class=\"Icon_Sprite_Nk Icon_RaceInfo30\"></span>\\n騎乗停止情報\\n</a>\\n</li>\\n<li>\\n<a href=\"http://race.sp.netkeiba.com/?pid=information\" title=\"変更情報\">\\n<span class=\"Icon_Sprite_Nk Icon_RaceInfo31\"></span>\\n変更情報\\n</a>\\n</li>\\n\\n<li class=\"RaceMenu_Dialog\">\\n<a href=\"https://race.sp.netkeiba.com/?pid=ipat&action=menu\" class=\"ipat_dialog\" title=\"入出金\">\\n<span class=\"Icon_Sprite_Nk Icon_RaceInfo29\"></span>\\n入出金\\n</a>\\n</li>\\n<li class=\"RaceMenu_Dialog\">\\n<a href=\"https://race.sp.netkeiba.com/?pid=ipat&action=inquiry\" class=\"ipat_dialog\" title=\"投票照会\">\\n<span class=\"Icon_Sprite_Nk Icon_RaceInfo29\"></span>\\n投票照会\\n</a>\\n</li>\\n<li>\\n<a href=\"http://race.sp.netkeiba.com/?pid=ipat_history\" title=\"My収支\">\\n<span class=\"Icon_Sprite_Nk Icon_RaceInfo28\"></span>\\nMy収支\\n</a>\\n</li>\\n</ul>\\n</div><!-- /.Top_RaceMenu_Inner -->\\n</div><!-- /.Top_RaceMenu -->\\n<!-- block=popup_racelist (cp) -->\\n<div class=\"Shutuba_Modal FreeMem\">\\n<div class=\"Btn\"><span class=\"Icon\"></span>レース一覧</div>\\n</div><!-- /.Shutuba_Modal -->\\n<div class=\"Shutuba_Modal_RaceList disp_none\">\\n<div class=\"RaceDayWrap\" style=\"padding:0 6px;\">\\n<div class=\"RaceDayWrap_Inner\">\\n<div class=\"Tab_RaceDaySelect\">\\n<!-- <ul class=\"Col3 fc\"> -->\\n<ul>\\n<li>\\n<a id=\"Tab_20181124\">\\n11/24<span class=\"Sat\">(土)</span>\\n</a>\\n</li><li>\\n<a id=\"Tab_20181125\">\\n11/25<span class=\"Sun\">(日)</span>\\n</a>\\n</li><li>\\n<a id=\"Tab_20181202\">\\n12/2<span class=\"Sun\">(日)</span>\\n</a>\\n</li>\\n</ul>\\n</div><!-- /.Tab_RaceDaySelect -->\\n</div><!-- /.RaceDayWrap_Inner -->\\n</div><!-- /.RaceDayWrap -->\\n<div id = \"tag_date_20181124\" class=\"RaceList_Table Col2 fc\">\\n<table class=\"RaceList RaceList_Num\">\\n<tr class=\"Header\"><th class=\"RaceNum\">R</th></tr>\\n<tr class=\"RaceName\"><td class=\"RaceNum\">12</td></tr>\\n<tr class=\"RaceName\"><td class=\"RaceNum\">11</td></tr>\\n<tr class=\"RaceName\"><td class=\"RaceNum\">10</td></tr>\\n<tr class=\"RaceName\"><td class=\"RaceNum\">9</td></tr>\\n<tr class=\"RaceName\"><td class=\"RaceNum\">8</td></tr>\\n<tr class=\"RaceName\"><td class=\"RaceNum\">7</td></tr>\\n<tr class=\"RaceName\"><td class=\"RaceNum\">6</td></tr>\\n<tr class=\"RaceName\"><td class=\"RaceNum\">5</td></tr>\\n<tr class=\"RaceName\"><td class=\"RaceNum\">4</td></tr>\\n<tr class=\"RaceName\"><td class=\"RaceNum\">3</td></tr>\\n<tr class=\"RaceName\"><td class=\"RaceNum\">2</td></tr>\\n<tr class=\"RaceName\"><td class=\"RaceNum\">1</td></tr>\\n</table>\\n<table class=\"RaceList\">\\n<tr class=\"Header\">\\n<th class=\"Jyo_1\">東京</th>\\n</tr>\\n<tr class=\"RaceName \">\\n<td>\\n<a href=\"?pid=shutuba&race_id=201805050712&rf=prs\">\\n<div>\\n<span class=\"Race\">3歳上1000万</span>\\n<span class=\"Time Turf\"></span>\\n</div>\\n</a>\\n</td>\\n</tr><tr class=\"RaceName \">\\n<td>\\n<a href=\"?pid=shutuba&race_id=201805050711&rf=prs\">\\n<div>\\n<span class=\"Race\">キャピタルＳ</span>\\n<span class=\"Time Turf\"></span>\\n</div>\\n</a>\\n</td>\\n</tr><tr class=\"RaceName \">\\n<td>\\n<a href=\"?pid=shutuba&race_id=201805050710&rf=prs\">\\n<div>\\n<span class=\"Race\">銀嶺Ｓ</span>\\n<span class=\"Time Turf\"></span>\\n</div>\\n</a>\\n</td>\\n</tr><tr class=\"RaceName \">\\n<td>\\n<a href=\"?pid=shutuba&race_id=201805050709&rf=prs\">\\n<div>\\n<span class=\"Race\">カトレア賞</span>\\n<span class=\"Time Turf\"></span>\\n</div>\\n</a>\\n</td>\\n</tr><tr class=\"RaceName \">\\n<td>\\n<a href=\"?pid=shutuba&race_id=201805050708&rf=prs\">\\n<div>\\n<span class=\"Race\">3歳上1000万</span>\\n<span class=\"Time Turf\"></span>\\n</div>\\n</a>\\n</td>\\n</tr><tr class=\"RaceName \">\\n<td>\\n<a href=\"?pid=shutuba&race_id=201805050707&rf=prs\">\\n<div>\\n<span class=\"Race\">3歳上500万</span>\\n<span class=\"Time Turf\"></span>\\n</div>\\n</a>\\n</td>\\n</tr><tr class=\"RaceName \">\\n<td>\\n<a href=\"?pid=shutuba&race_id=201805050706&rf=prs\">\\n<div>\\n<span class=\"Race\">2歳新馬</span>\\n<span class=\"Time Turf\"></span>\\n</div>\\n</a>\\n</td>\\n</tr><tr class=\"RaceName \">\\n<td>\\n<a href=\"?pid=shutuba&race_id=201805050705&rf=prs\">\\n<div>\\n<span class=\"Race\">2歳新馬</span>\\n<span class=\"Time Turf\"></span>\\n</div>\\n</a>\\n</td>\\n</tr><tr class=\"RaceName \">\\n<td>\\n<a href=\"?pid=shutuba&race_id=201805050704&rf=prs\">\\n<div>\\n<span class=\"Race\">3歳上障害未勝利</span>\\n<span class=\"Time Turf\"></span>\\n</div>\\n</a>\\n</td>\\n</tr><tr class=\"RaceName \">\\n<td>\\n<a href=\"?pid=shutuba&race_id=201805050703&rf=prs\">\\n<div>\\n<span class=\"Race\">2歳未勝利</span>\\n<span class=\"Time Turf\"></span>\\n</div>\\n</a>\\n</td>\\n</tr><tr class=\"RaceName \">\\n<td>\\n<a href=\"?pid=shutuba&race_id=201805050702&rf=prs\">\\n<div>\\n<span class=\"Race\">2歳未勝利</span>\\n<span class=\"Time Turf\"></span>\\n</div>\\n</a>\\n</td>\\n</tr><tr class=\"RaceName \">\\n<td>\\n<a href=\"?pid=shutuba&race_id=201805050701&rf=prs\">\\n<div>\\n<span class=\"Race\">2歳未勝利</span>\\n<span class=\"Time Turf\"></span>\\n</div>\\n</a>\\n</td>\\n</tr>\\n</table><!-- /.RaceList --><table class=\"RaceList\">\\n<tr class=\"Header\">\\n<th class=\"Jyo_2\">京都</th>\\n</tr>\\n<tr class=\"RaceName \">\\n<td>\\n<a href=\"?pid=shutuba&race_id=201808050712&rf=prs\">\\n<div>\\n<span class=\"Race\">3歳上1000万</span>\\n<span class=\"Time Turf\"></span>\\n</div>\\n</a>\\n</td>\\n</tr><tr class=\"RaceName \">\\n<td>\\n<a href=\"?pid=shutuba&race_id=201808050711&rf=prs\">\\n<div>\\n<span class=\"Race\">京都2歳Ｓ</span>\\n<span class=\"Time Turf\"></span>\\n</div>\\n</a>\\n</td>\\n</tr><tr class=\"RaceName \">\\n<td>\\n<a href=\"?pid=shutuba&race_id=201808050710&rf=prs\">\\n<div>\\n<span class=\"Race\">花園Ｓ</span>\\n<span class=\"Time Turf\"></span>\\n</div>\\n</a>\\n</td>\\n</tr><tr class=\"RaceName \">\\n<td>\\n<a href=\"?pid=shutuba&race_id=201808050709&rf=prs\">\\n<div>\\n<span class=\"Race\">高雄特別</span>\\n<span class=\"Time Turf\"></span>\\n</div>\\n</a>\\n</td>\\n</tr><tr class=\"RaceName \">\\n<td>\\n<a href=\"?pid=shutuba&race_id=201808050708&rf=prs\">\\n<div>\\n<span class=\"Race\">3歳上500万</span>\\n<span class=\"Time Turf\"></span>\\n</div>\\n</a>\\n</td>\\n</tr><tr class=\"RaceName \">\\n<td>\\n<a href=\"?pid=shutuba&race_id=201808050707&rf=prs\">\\n<div>\\n<span class=\"Race\">3歳上500万</span>\\n<span class=\"Time Turf\"></span>\\n</div>\\n</a>\\n</td>\\n</tr><tr class=\"RaceName \">\\n<td>\\n<a href=\"?pid=shutuba&race_id=201808050706&rf=prs\">\\n<div>\\n<span class=\"Race\">2歳新馬</span>\\n<span class=\"Time Turf\"></span>\\n</div>\\n</a>\\n</td>\\n</tr><tr class=\"RaceName \">\\n<td>\\n<a href=\"?pid=shutuba&race_id=201808050705&rf=prs\">\\n<div>\\n<span class=\"Race\">2歳新馬</span>\\n<span class=\"Time Turf\"></span>\\n</div>\\n</a>\\n</td>\\n</tr><tr class=\"RaceName \">\\n<td>\\n<a href=\"?pid=shutuba&race_id=201808050704&rf=prs\">\\n<div>\\n<span class=\"Race\">2歳未勝利</span>\\n<span class=\"Time Turf\"></span>\\n</div>\\n</a>\\n</td>\\n</tr><tr class=\"RaceName \">\\n<td>\\n<a href=\"?pid=shutuba&race_id=201808050703&rf=prs\">\\n<div>\\n<span class=\"Race\">2歳未勝利</span>\\n<span class=\"Time Turf\"></span>\\n</div>\\n</a>\\n</td>\\n</tr><tr class=\"RaceName \">\\n<td>\\n<a href=\"?pid=shutuba&race_id=201808050702&rf=prs\">\\n<div>\\n<span class=\"Race\">2歳未勝利</span>\\n<span class=\"Time Turf\"></span>\\n</div>\\n</a>\\n</td>\\n</tr><tr class=\"RaceName \">\\n<td>\\n<a href=\"?pid=shutuba&race_id=201808050701&rf=prs\">\\n<div>\\n<span class=\"Race\">2歳未勝利</span>\\n<span class=\"Time Turf\"></span>\\n</div>\\n</a>\\n</td>\\n</tr>\\n</table><!-- /.RaceList -->\\n</div><div id = \"tag_date_20181125\" class=\"RaceList_Table Col2 fc\">\\n<table class=\"RaceList RaceList_Num\">\\n<tr class=\"Header\"><th class=\"RaceNum\">R</th></tr>\\n<tr class=\"RaceName\"><td class=\"RaceNum\">12</td></tr>\\n<tr class=\"RaceName\"><td class=\"RaceNum\">11</td></tr>\\n<tr class=\"RaceName\"><td class=\"RaceNum\">10</td></tr>\\n<tr class=\"RaceName\"><td class=\"RaceNum\">9</td></tr>\\n<tr class=\"RaceName\"><td class=\"RaceNum\">8</td></tr>\\n<tr class=\"RaceName\"><td class=\"RaceNum\">7</td></tr>\\n<tr class=\"RaceName\"><td class=\"RaceNum\">6</td></tr>\\n<tr class=\"RaceName\"><td class=\"RaceNum\">5</td></tr>\\n<tr class=\"RaceName\"><td class=\"RaceNum\">4</td></tr>\\n<tr class=\"RaceName\"><td class=\"RaceNum\">3</td></tr>\\n<tr class=\"RaceName\"><td class=\"RaceNum\">2</td></tr>\\n<tr class=\"RaceName\"><td class=\"RaceNum\">1</td></tr>\\n</table>\\n<table class=\"RaceList\">\\n<tr class=\"Header\">\\n<th class=\"Jyo_1\">東京</th>\\n</tr>\\n<tr class=\"RaceName \">\\n<td>\\n<a >\\n<div>\\n<span class=\"Race\"></span>\\n<span class=\"Time Turf\"></span>\\n</div>\\n</a>\\n</td>\\n</tr><tr class=\"RaceName \">\\n<td>\\n<a href=\"?pid=shutuba&race_id=201805050811&rf=prs\">\\n<div>\\n<span class=\"Race\">ジャパンＣ</span>\\n<span class=\"Time Turf\"></span>\\n</div>\\n</a>\\n</td>\\n</tr><tr class=\"RaceName \">\\n<td>\\n<a href=\"?pid=shutuba&race_id=201805050810&rf=prs\">\\n<div>\\n<span class=\"Race\">ウェルカムＳ</span>\\n<span class=\"Time Turf\"></span>\\n</div>\\n</a>\\n</td>\\n</tr><tr class=\"RaceName \">\\n<td>\\n<a href=\"?pid=shutuba&race_id=201805050809&rf=prs\">\\n<div>\\n<span class=\"Race\">シャングリラ</span>\\n<span class=\"Time Turf\"></span>\\n</div>\\n</a>\\n</td>\\n</tr><tr class=\"RaceName \">\\n<td>\\n<a href=\"?pid=shutuba&race_id=201805050808&rf=prs\">\\n<div>\\n<span class=\"Race\">オリエンタル</span>\\n<span class=\"Time Turf\"></span>\\n</div>\\n</a>\\n</td>\\n</tr><tr class=\"RaceName \">\\n<td>\\n<a href=\"?pid=shutuba&race_id=201805050807&rf=prs\">\\n<div>\\n<span class=\"Race\">ベゴニア賞</span>\\n<span class=\"Time Turf\"></span>\\n</div>\\n</a>\\n</td>\\n</tr><tr class=\"RaceName \">\\n<td>\\n<a href=\"?pid=shutuba&race_id=201805050806&rf=prs\">\\n<div>\\n<span class=\"Race\">3歳上500万</span>\\n<span class=\"Time Turf\"></span>\\n</div>\\n</a>\\n</td>\\n</tr><tr class=\"RaceName \">\\n<td>\\n<a href=\"?pid=shutuba&race_id=201805050805&rf=prs\">\\n<div>\\n<span class=\"Race\">3歳上500万</span>\\n<span class=\"Time Turf\"></span>\\n</div>\\n</a>\\n</td>\\n</tr><tr class=\"RaceName \">\\n<td>\\n<a href=\"?pid=shutuba&race_id=201805050804&rf=prs\">\\n<div>\\n<span class=\"Race\">2歳新馬</span>\\n<span class=\"Time Turf\"></span>\\n</div>\\n</a>\\n</td>\\n</tr><tr class=\"RaceName \">\\n<td>\\n<a href=\"?pid=shutuba&race_id=201805050803&rf=prs\">\\n<div>\\n<span class=\"Race\">2歳未勝利</span>\\n<span class=\"Time Turf\"></span>\\n</div>\\n</a>\\n</td>\\n</tr><tr class=\"RaceName \">\\n<td>\\n<a href=\"?pid=shutuba&race_id=201805050802&rf=prs\">\\n<div>\\n<span class=\"Race\">2歳未勝利</span>\\n<span class=\"Time Turf\"></span>\\n</div>\\n</a>\\n</td>\\n</tr><tr class=\"RaceName \">\\n<td>\\n<a href=\"?pid=shutuba&race_id=201805050801&rf=prs\">\\n<div>\\n<span class=\"Race\">2歳未勝利</span>\\n<span class=\"Time Turf\"></span>\\n</div>\\n</a>\\n</td>\\n</tr>\\n</table><!-- /.RaceList --><table class=\"RaceList\">\\n<tr class=\"Header\">\\n<th class=\"Jyo_2\">京都</th>\\n</tr>\\n<tr class=\"RaceName \">\\n<td>\\n<a href=\"?pid=shutuba&race_id=201808050812&rf=prs\">\\n<div>\\n<span class=\"Race\">京阪杯</span>\\n<span class=\"Time Turf\"></span>\\n</div>\\n</a>\\n</td>\\n</tr><tr class=\"RaceName \">\\n<td>\\n<a href=\"?pid=shutuba&race_id=201808050811&rf=prs\">\\n<div>\\n<span class=\"Race\">ＡリーフＳ</span>\\n<span class=\"Time Turf\"></span>\\n</div>\\n</a>\\n</td>\\n</tr><tr class=\"RaceName \">\\n<td>\\n<a href=\"?pid=shutuba&race_id=201808050810&rf=prs\">\\n<div>\\n<span class=\"Race\">渡月橋Ｓ</span>\\n<span class=\"Time Turf\"></span>\\n</div>\\n</a>\\n</td>\\n</tr><tr class=\"RaceName \">\\n<td>\\n<a href=\"?pid=shutuba&race_id=201808050809&rf=prs\">\\n<div>\\n<span class=\"Race\">白菊賞</span>\\n<span class=\"Time Turf\"></span>\\n</div>\\n</a>\\n</td>\\n</tr><tr class=\"RaceName \">\\n<td>\\n<a href=\"?pid=shutuba&race_id=201808050808&rf=prs\">\\n<div>\\n<span class=\"Race\">3歳上1000万</span>\\n<span class=\"Time Turf\"></span>\\n</div>\\n</a>\\n</td>\\n</tr><tr class=\"RaceName \">\\n<td>\\n<a href=\"?pid=shutuba&race_id=201808050807&rf=prs\">\\n<div>\\n<span class=\"Race\">3歳上1000万</span>\\n<span class=\"Time Turf\"></span>\\n</div>\\n</a>\\n</td>\\n</tr><tr class=\"RaceName \">\\n<td>\\n<a href=\"?pid=shutuba&race_id=201808050806&rf=prs\">\\n<div>\\n<span class=\"Race\">3歳上500万</span>\\n<span class=\"Time Turf\"></span>\\n</div>\\n</a>\\n</td>\\n</tr><tr class=\"RaceName \">\\n<td>\\n<a href=\"?pid=shutuba&race_id=201808050805&rf=prs\">\\n<div>\\n<span class=\"Race\">2歳新馬</span>\\n<span class=\"Time Turf\"></span>\\n</div>\\n</a>\\n</td>\\n</tr><tr class=\"RaceName \">\\n<td>\\n<a href=\"?pid=shutuba&race_id=201808050804&rf=prs\">\\n<div>\\n<span class=\"Race\">3歳上障害ＯＰ</span>\\n<span class=\"Time Turf\"></span>\\n</div>\\n</a>\\n</td>\\n</tr><tr class=\"RaceName \">\\n<td>\\n<a href=\"?pid=shutuba&race_id=201808050803&rf=prs\">\\n<div>\\n<span class=\"Race\">2歳未勝利</span>\\n<span class=\"Time Turf\"></span>\\n</div>\\n</a>\\n</td>\\n</tr><tr class=\"RaceName \">\\n<td>\\n<a href=\"?pid=shutuba&race_id=201808050802&rf=prs\">\\n<div>\\n<span class=\"Race\">2歳未勝利</span>\\n<span class=\"Time Turf\"></span>\\n</div>\\n</a>\\n</td>\\n</tr><tr class=\"RaceName \">\\n<td>\\n<a href=\"?pid=shutuba&race_id=201808050801&rf=prs\">\\n<div>\\n<span class=\"Race\">2歳未勝利</span>\\n<span class=\"Time Turf\"></span>\\n</div>\\n</a>\\n</td>\\n</tr>\\n</table><!-- /.RaceList -->\\n</div><div id = \"tag_date_20181202\" class=\"RaceList_Table Col1 fc\">\\n<table class=\"RaceList RaceList_Num\">\\n<tr class=\"Header\"><th class=\"RaceNum\">R</th></tr>\\n<tr class=\"RaceName\"><td class=\"RaceNum\">12</td></tr>\\n<tr class=\"RaceName\"><td class=\"RaceNum\">11</td></tr>\\n<tr class=\"RaceName\"><td class=\"RaceNum\">10</td></tr>\\n<tr class=\"RaceName\"><td class=\"RaceNum\">9</td></tr>\\n<tr class=\"RaceName\"><td class=\"RaceNum\">8</td></tr>\\n<tr class=\"RaceName\"><td class=\"RaceNum\">7</td></tr>\\n<tr class=\"RaceName\"><td class=\"RaceNum\">6</td></tr>\\n<tr class=\"RaceName\"><td class=\"RaceNum\">5</td></tr>\\n<tr class=\"RaceName\"><td class=\"RaceNum\">4</td></tr>\\n<tr class=\"RaceName\"><td class=\"RaceNum\">3</td></tr>\\n<tr class=\"RaceName\"><td class=\"RaceNum\">2</td></tr>\\n<tr class=\"RaceName\"><td class=\"RaceNum\">1</td></tr>\\n</table>\\n<table class=\"RaceList\">\\n<tr class=\"Header\">\\n<th class=\"Jyo_1\">中京</th>\\n</tr>\\n<tr class=\"RaceName \">\\n<td>\\n<a >\\n<div>\\n<span class=\"Race\"></span>\\n<span class=\"Time Turf\"></span>\\n</div>\\n</a>\\n</td>\\n</tr><tr class=\"RaceName \">\\n<td>\\n<a href=\"?pid=shutuba&race_id=201807040211&rf=prs\">\\n<div>\\n<span class=\"Race\">チャンピオン</span>\\n<span class=\"Time Turf\"></span>\\n</div>\\n</a>\\n</td>\\n</tr><tr class=\"RaceName \">\\n<td>\\n<a >\\n<div>\\n<span class=\"Race\"></span>\\n<span class=\"Time Turf\"></span>\\n</div>\\n</a>\\n</td>\\n</tr><tr class=\"RaceName \">\\n<td>\\n<a >\\n<div>\\n<span class=\"Race\"></span>\\n<span class=\"Time Turf\"></span>\\n</div>\\n</a>\\n</td>\\n</tr><tr class=\"RaceName \">\\n<td>\\n<a >\\n<div>\\n<span class=\"Race\"></span>\\n<span class=\"Time Turf\"></span>\\n</div>\\n</a>\\n</td>\\n</tr><tr class=\"RaceName \">\\n<td>\\n<a >\\n<div>\\n<span class=\"Race\"></span>\\n<span class=\"Time Turf\"></span>\\n</div>\\n</a>\\n</td>\\n</tr><tr class=\"RaceName \">\\n<td>\\n<a >\\n<div>\\n<span class=\"Race\"></span>\\n<span class=\"Time Turf\"></span>\\n</div>\\n</a>\\n</td>\\n</tr><tr class=\"RaceName \">\\n<td>\\n<a >\\n<div>\\n<span class=\"Race\"></span>\\n<span class=\"Time Turf\"></span>\\n</div>\\n</a>\\n</td>\\n</tr><tr class=\"RaceName \">\\n<td>\\n<a >\\n<div>\\n<span class=\"Race\"></span>\\n<span class=\"Time Turf\"></span>\\n</div>\\n</a>\\n</td>\\n</tr><tr class=\"RaceName \">\\n<td>\\n<a >\\n<div>\\n<span class=\"Race\"></span>\\n<span class=\"Time Turf\"></span>\\n</div>\\n</a>\\n</td>\\n</tr><tr class=\"RaceName \">\\n<td>\\n<a >\\n<div>\\n<span class=\"Race\"></span>\\n<span class=\"Time Turf\"></span>\\n</div>\\n</a>\\n</td>\\n</tr><tr class=\"RaceName \">\\n<td>\\n<a >\\n<div>\\n<span class=\"Race\"></span>\\n<span class=\"Time Turf\"></span>\\n</div>\\n</a>\\n</td>\\n</tr>\\n</table><!-- /.RaceList -->\\n</div>\\n<a href=\"/?pid=race_result&amp;race_id=200801010101\">\\n<div class=\"Close\">閉じる</div>\\n</a>\\n</div><!-- /.Shutuba_Modal_RaceList -->\\n<script>\\n$(function() {\\n//レース番号の高さ指定\\n$(\\'.RaceList_Num .RaceName\\').css(\\'height\\', \\'41\\');\\n$(\\'body\\').append(\\'<div id=\"modal_overlay\"></div><div id=\"modal_content\"></div>\\');\\nvar modalBtn = $(\\'.Shutuba_Modal > .Btn\\');\\nvar overlay = $(\\'#modal_overlay\\');\\nvar content = $(\\'#modal_content\\');\\nmodalBtn.click(function() {\\noverlay.show();\\ncontent.show().html($(\\'.Shutuba_Modal_RaceList\\').show());\\n});\\n$(\"[id^=\\'Tab_\\']\").click(function(){\\n$(\"[id^=\\'Tab_\\']\").each(function(){\\nvar box \\t\\t= $(this);\\nvar tmp_seq \\t= box[0].id;\\t\\t\\t//seq\\nvar seq \\t\\t= tmp_seq.split(\\'_\\');\\n$(\"#tag_date_\" + seq[1]).hide();\\n$(this).removeClass(\\'Tab_Active\\');\\n})\\nvar box1 \\t\\t= $(this);\\nvar tmp_seq1 \\t= box1[0].id;\\t\\t\\t//seq\\nvar seq1 \\t\\t= tmp_seq1.split(\\'_\\');\\n$(\"#tag_date_\" + seq1[1]).show();\\n$(this).addClass(\\'Tab_Active\\');\\nreturn false;\\n});\\n});\\n$(document).ready(function ()\\n{\\n$(\"[id^=\\'Tab_\\']\").each(function(){\\nvar box \\t\\t= $(this);\\nvar tmp_seq \\t= box[0].id;\\t\\t\\t//seq\\nvar seq \\t\\t= tmp_seq.split(\\'_\\');\\n$(\"#tag_date_\" + seq[1]).hide();\\nif (seq[1] == 20181125)\\n{\\n$(\"#tag_date_\" + seq[1]).show();\\n$(this).addClass(\\'Tab_Active\\');\\n}\\n});\\n});\\n</script>\\n</div><!-- /contents -->\\n</div><!-- /.Wrap -->\\n\\n<!-- block=advertisement (d) -->\\n<div class=\"nk_AdvBox_sp_01\">\\n<script language=\"JavaScript\" type=\"text/javascript\">\\nnoCacheParam=Math.random()*10000000000;document.write(\\'<scr\\'+\\'ipt type=\"text/javascript\" src=\"https://netdreamersad.durasite.net/A-affiliate2/mobile?site=23&keyword=sp_nk_race_003&isJS=true&encoding=EUC-JP&ord=\\' + noCacheParam + \\'\"></scr\\'+\\'ipt>\\');\\n</script>\\n</div><!-- /.nk_AdvBox_sp_01 -->\\n<!-- フッター -->\\n<!-- block=race_footer (cg) -->\\n<footer>\\n\\n<div id=\"PageTop\">\\n<a href=\"javascript:void(0)\"><img src=\"https://cdn.netkeiba.com/img.sp/common/img/common/PageTop.png\" alt=\"\" width=\"20\"></a>\\n</div> <!-- / #PageTop -->\\n<div class=\"PremiumIntroBox02 footer\">\\n<a href=\"https://regist.sp.netkeiba.com/?pid=premium&service=p97\" title=\"netkeibaプレミアムサービス\" id=\"a_monthly_goods_link_01\" data-theme=\"00001\">\\n<p><em><span>P</span>便利でお得な</em>プレミアムサービスのご案内</p>\\n</a>\\n</div><!-- /.PremiumIntroBox02 -->\\n<div class=\"Find_FootArea fc\" style=\"padding-bottom:70px;\">\\n\\n<div class=\"Footer_Box\">\\n<div class=\"Nk_Sns\">\\n<ul class=\"fc\">\\n<li>\\n<a href=\"https://twitter.com/netkeiba\" title=\"公式 Twitter\" class=\"Tw\"></a>\\n</li>\\n<li>\\n<a href=\"https://ja-jp.facebook.com/netkeiba\" title=\"公式 Facebook\" class=\"Fb\"></a>\\n</li>\\n<li>\\n<a href=\"https://line.me/R/ti/p/%40oa-netkeiba\" title=\"LINE\" class=\"Line\"></a>\\n</li>\\n<li>\\n<a href=\"https://www.youtube.com/user/netkeibaTV\" title=\"netkeibaチャンネル\" class=\"Yt\"></a>\\n</li>\\n<li>\\n<a href=\"https://www.instagram.com/netkeiba/\" title=\"Instagram\" class=\"Ig\"></a>\\n</li>\\n<li>\\n<a href=\"http://sp.netkeiba.com/?pid=rss\" title=\"RSS\" class=\"Rss\"></a>\\n</li>\\n</ul>\\n</div><!-- /.Nk_Sns -->\\n<ul class=\"FootInfo_Link fc\">\\n<li>\\n<a href=\"http://info.netkeiba.com/?rf=footer\" title=\"お知らせ\">お知らせ</a>\\n</li>\\n<li>\\n<a href=\"https://regist.sp.netkeiba.com/?pid=premium&rf=footer\" title=\"プレミアムサービス\">プレミアムサービス</a>\\n</li>\\n<li>\\n<a href=\"https://regist.sp.netkeiba.com/?pid=help&rf=footer\" title=\"よくある質問\">よくある質問</a>\\n</li>\\n</ul>\\n<ul class=\"FootInfo_Link fc\">\\n<li>\\n<a href=\"http://sp.netkeiba.com/info/kiyaku.html?rf=footer\" title=\"利用規約\">利用規約</a>\\n</li>\\n<li>\\n<a href=\"http://sp.netkeiba.com/info/ad/?rf=footer\" title=\"広告募集\">広告募集</a>\\n</li>\\n<li>\\n<a href=\"https://www.netdreamers.co.jp/recruit/index.html?rf=footer\" title=\"採用情報\">採用情報</a>\\n</li>\\n</ul>\\n<ul class=\"FootInfo_Link fc\">\\n<li>\\n<a href=\"http://www.netdreamers.co.jp/company/about/privacy.html?rf=footer\" title=\"プライバシーポリシー\">プライバシーポリシー</a>\\n</li>\\n<li>\\n<a href=\"http://www.netdreamers.co.jp/index.html?rf=footer\" title=\"運営会社\">運営会社</a>\\n</li>\\n</ul>\\n</div><!-- /.Footer_Box -->\\n<div class=\"OtherSiteBox\">\\n<a href=\"http://sp.baseball.findfriends.jp/\" title=\"野球\" target=\"_blank\">野球</a>｜<a href=\"http://sp.soccer.findfriends.jp/\" title=\"サッカー\" target=\"_blank\">サッカー</a>｜<a href=\"http://sp.golf.findfriends.jp/\" title=\"ゴルフ\" target=\"_blank\">ゴルフ</a>｜<a href=\"http://sp.findfriends.jp/\" title=\"掲示板\" target=\"_blank\">掲示板</a>｜<a href=\"https://smart.lets-ktai.jp/\" title=\"SMART会員証\" target=\"_blank\">SMART会員証</a>\\n</div>\\n<p class=\"CopyRight\">\\n<small>&copy; NetDreamers</small>\\n</p>\\n</div><!-- /.Find_FootArea -->\\n</footer>\\n<script type=\"text/javascript\">\\n// ページTOPボタン\\n$(function() {\\n$(\\'#PageTop a\\').click(function () {\\n$(\\'body,html\\').animate({\\nscrollTop: 0\\n}, 400);\\nreturn false;\\n});\\n});\\n</script>\\n<!-- Google Tag Manager -->\\n<noscript><iframe src=\"//www.googletagmanager.com/ns.html?id=GTM-MJ83PF\"\\nheight=\"0\" width=\"0\"\\nstyle=\"display:none;visibility:hidden\"></iframe></noscript>\\n<script>\\n(function(w,d,s,l,i){w[l]=w[l]||[];w[l].push({\\'gtm.start\\':\\nnew Date().getTime(),event:\\'gtm.js\\'});var f=d.getElementsByTagName(s)[0], j=d.createElement(s),dl=l!=\\'dataLayer\\'?\\'&l=\\'+l:\\'\\';j.async=true;j.src=\\n\\'//www.googletagmanager.com/gtm.js?id=\\'+i+dl;f.parentNode.insertBefore(j,f);\\n})(window,document,\\'script\\',\\'dataLayer\\',\\'GTM-MJ83PF\\');\\n</script>\\n<!-- End Google Tag Manager -->\\n\\n\\n<!-- block=ad_for_apl (d) -->\\n<div class=\"nk_AdvBox_sp_01\">\\n\\n<script language=\"JavaScript\" type=\"text/javascript\">\\nnoCacheParam=Math.random()*10000000000;document.write(\\'<scr\\'+\\'ipt type=\"text/javascript\" src=\"https://netdreamersad.durasite.net/A-affiliate2//mobile?site=23&keyword=sp_nk_race_overlay&isJS=true&encoding=EUC-JP&ord=\\' + noCacheParam + \\'\"></scr\\'+\\'ipt>\\');\\n</script>\\n</div><!-- /.nk_AdvBox_sp_01 -->\\n</body>\\n</html>'"
      ]
     },
     "execution_count": 34,
     "metadata": {},
     "output_type": "execute_result"
    }
   ],
   "source": [
    "html.text"
   ]
  },
  {
   "cell_type": "code",
   "execution_count": 164,
   "metadata": {},
   "outputs": [
    {
     "name": "stdout",
     "output_type": "stream",
     "text": [
      "               age c_weight  course     date field gender head_count  \\\n",
      "20080101010100   2        0  芝1500m  8/16(土)    札幌      牝        14頭   \n",
      "20080101010101   2        0  芝1500m  8/16(土)    札幌      牡        14頭   \n",
      "20080101010102   2       +2  芝1500m  8/16(土)    札幌      牡        14頭   \n",
      "20080101010103   2       -4  芝1500m  8/16(土)    札幌      牡        14頭   \n",
      "20080101010104   2      -20  芝1500m  8/16(土)    札幌      牝        14頭   \n",
      "20080101010105   2       -4  芝1500m  8/16(土)    札幌      牡        14頭   \n",
      "20080101010106   2      -10  芝1500m  8/16(土)    札幌      牡        14頭   \n",
      "20080101010107   2       -6  芝1500m  8/16(土)    札幌      牡        14頭   \n",
      "20080101010108   2       -8  芝1500m  8/16(土)    札幌      牡        14頭   \n",
      "20080101010109   2       +2  芝1500m  8/16(土)    札幌      牡        14頭   \n",
      "20080101010110   2        0  芝1500m  8/16(土)    札幌      牡        14頭   \n",
      "20080101010111   2       -4  芝1500m  8/16(土)    札幌      牡        14頭   \n",
      "20080101010112   2       -2  芝1500m  8/16(土)    札幌      牡        14頭   \n",
      "20080101010113   2       +2  芝1500m  8/16(土)    札幌      牡        14頭   \n",
      "20080101010100   2        0  芝1500m  8/16(土)    札幌      牝        14頭   \n",
      "20080101010101   2        0  芝1500m  8/16(土)    札幌      牡        14頭   \n",
      "20080101010102   2       +2  芝1500m  8/16(土)    札幌      牡        14頭   \n",
      "20080101010103   2       -4  芝1500m  8/16(土)    札幌      牡        14頭   \n",
      "20080101010104   2      -20  芝1500m  8/16(土)    札幌      牝        14頭   \n",
      "20080101010105   2       -4  芝1500m  8/16(土)    札幌      牡        14頭   \n",
      "20080101010106   2      -10  芝1500m  8/16(土)    札幌      牡        14頭   \n",
      "20080101010107   2       -6  芝1500m  8/16(土)    札幌      牡        14頭   \n",
      "20080101010108   2       -8  芝1500m  8/16(土)    札幌      牡        14頭   \n",
      "20080101010109   2       +2  芝1500m  8/16(土)    札幌      牡        14頭   \n",
      "20080101010110   2        0  芝1500m  8/16(土)    札幌      牡        14頭   \n",
      "20080101010111   2       -4  芝1500m  8/16(土)    札幌      牡        14頭   \n",
      "20080101010112   2       -2  芝1500m  8/16(土)    札幌      牡        14頭   \n",
      "20080101010113   2       +2  芝1500m  8/16(土)    札幌      牡        14頭   \n",
      "20080101010100   2        0  芝1500m  8/16(土)    札幌      牝        14頭   \n",
      "20080101010101   2        0  芝1500m  8/16(土)    札幌      牝        14頭   \n",
      "...             ..      ...     ...      ...   ...    ...        ...   \n",
      "20080101010807   3      +14  ダ1700m  8/16(土)    札幌      牝        13頭   \n",
      "20080101010808   3      +14  ダ1700m  8/16(土)    札幌      牝        13頭   \n",
      "20080101010809   3      +14  ダ1700m  8/16(土)    札幌      牝        13頭   \n",
      "20080101010810   3      +14  ダ1700m  8/16(土)    札幌      牝        13頭   \n",
      "20080101010811   3      +14  ダ1700m  8/16(土)    札幌      牝        13頭   \n",
      "20080101010812   3      +14  ダ1700m  8/16(土)    札幌      牝        13頭   \n",
      "20080101010100   2        0  芝1500m  8/16(土)    札幌      牝        14頭   \n",
      "20080101010101   2        0  芝1500m  8/16(土)    札幌      牡        14頭   \n",
      "20080101010102   2       +2  芝1500m  8/16(土)    札幌      牡        14頭   \n",
      "20080101010103   2       -4  芝1500m  8/16(土)    札幌      牡        14頭   \n",
      "20080101010104   2      -20  芝1500m  8/16(土)    札幌      牝        14頭   \n",
      "20080101010105   2       -4  芝1500m  8/16(土)    札幌      牡        14頭   \n",
      "20080101010106   2      -10  芝1500m  8/16(土)    札幌      牡        14頭   \n",
      "20080101010107   2       -6  芝1500m  8/16(土)    札幌      牡        14頭   \n",
      "20080101010108   2       -8  芝1500m  8/16(土)    札幌      牡        14頭   \n",
      "20080101010109   2       +2  芝1500m  8/16(土)    札幌      牡        14頭   \n",
      "20080101010110   2        0  芝1500m  8/16(土)    札幌      牡        14頭   \n",
      "20080101010111   2       -4  芝1500m  8/16(土)    札幌      牡        14頭   \n",
      "20080101010112   2       -2  芝1500m  8/16(土)    札幌      牡        14頭   \n",
      "20080101010113   2       +2  芝1500m  8/16(土)    札幌      牡        14頭   \n",
      "20080101010200   3       -4  ダ1000m  8/16(土)    札幌      牝        11頭   \n",
      "20080101010201   3       +6  ダ1000m  8/16(土)    札幌      牡        11頭   \n",
      "20080101010202   3       +2  ダ1000m  8/16(土)    札幌      牝        11頭   \n",
      "20080101010203   3       +2  ダ1000m  8/16(土)    札幌      牝        11頭   \n",
      "20080101010204   3        0  ダ1000m  8/16(土)    札幌      牡        11頭   \n",
      "20080101010205   3       -4  ダ1000m  8/16(土)    札幌      牝        11頭   \n",
      "20080101010206   3      +20  ダ1000m  8/16(土)    札幌      牝        11頭   \n",
      "20080101010207   3       -8  ダ1000m  8/16(土)    札幌      牡        11頭   \n",
      "20080101010208   3       -2  ダ1000m  8/16(土)    札幌      牝        11頭   \n",
      "20080101010209   3        0  ダ1000m  8/16(土)    札幌      牝        11頭   \n",
      "\n",
      "               horse_name j_weight jackie   odds popu race race_name rank  \\\n",
      "20080101010100     ディアジーナ     54.0     四位    4.3    2   1R     ２歳未勝利    1   \n",
      "20080101010101   アイディンパワー     54.0     藤田    5.2    4   1R     ２歳未勝利    2   \n",
      "20080101010102    ウインリーズン     54.0    安藤勝    3.1    1   1R     ２歳未勝利    3   \n",
      "20080101010103     ヴァンエボン     54.0    小林徹   23.0    8   1R     ２歳未勝利    4   \n",
      "20080101010104     ラヴェリータ     54.0    長谷川   21.9    6   1R     ２歳未勝利    5   \n",
      "20080101010105  ドリームクェーサー     54.0     池添    4.6    3   1R     ２歳未勝利    6   \n",
      "20080101010106   ヨイチラブソング     52.0    △三浦   10.4    5   1R     ２歳未勝利    7   \n",
      "20080101010107    マキノワールド     54.0     大野  154.0   12   1R     ２歳未勝利    8   \n",
      "20080101010108   メジロデューチン     53.0   ☆北村友  111.7   11   1R     ２歳未勝利    9   \n",
      "20080101010109   スマイルミッキー     54.0    横山典   22.9    7   1R     ２歳未勝利   10   \n",
      "20080101010110    スズカフレーム     54.0     芹沢   81.2   10   1R     ２歳未勝利   11   \n",
      "20080101010111    ヨシインゾーン     54.0     武幸   46.9    9   1R     ２歳未勝利   12   \n",
      "20080101010112        コード     51.0   ▲荻野琢  163.7   13   1R     ２歳未勝利   13   \n",
      "20080101010113   マイネルヘリオス     54.0     津村  227.4   14   1R     ２歳未勝利   14   \n",
      "20080101010100     ディアジーナ     54.0     四位    4.3    2   1R     ２歳未勝利    1   \n",
      "20080101010101   アイディンパワー     54.0     藤田    5.2    4   1R     ２歳未勝利    2   \n",
      "20080101010102    ウインリーズン     54.0    安藤勝    3.1    1   1R     ２歳未勝利    3   \n",
      "20080101010103     ヴァンエボン     54.0    小林徹   23.0    8   1R     ２歳未勝利    4   \n",
      "20080101010104     ラヴェリータ     54.0    長谷川   21.9    6   1R     ２歳未勝利    5   \n",
      "20080101010105  ドリームクェーサー     54.0     池添    4.6    3   1R     ２歳未勝利    6   \n",
      "20080101010106   ヨイチラブソング     52.0    △三浦   10.4    5   1R     ２歳未勝利    7   \n",
      "20080101010107    マキノワールド     54.0     大野  154.0   12   1R     ２歳未勝利    8   \n",
      "20080101010108   メジロデューチン     53.0   ☆北村友  111.7   11   1R     ２歳未勝利    9   \n",
      "20080101010109   スマイルミッキー     54.0    横山典   22.9    7   1R     ２歳未勝利   10   \n",
      "20080101010110    スズカフレーム     54.0     芹沢   81.2   10   1R     ２歳未勝利   11   \n",
      "20080101010111    ヨシインゾーン     54.0     武幸   46.9    9   1R     ２歳未勝利   12   \n",
      "20080101010112        コード     51.0   ▲荻野琢  163.7   13   1R     ２歳未勝利   13   \n",
      "20080101010113   マイネルヘリオス     54.0     津村  227.4   14   1R     ２歳未勝利   14   \n",
      "20080101010100     ディアジーナ     54.0     四位    4.3    2   1R     ２歳未勝利    1   \n",
      "20080101010101     ディアジーナ     54.0     四位    4.3    2   1R     ２歳未勝利    1   \n",
      "...                   ...      ...    ...    ...  ...  ...       ...  ...   \n",
      "20080101010807    ココシュニック     52.0     四位    3.2    1   8R  ３歳上５００万下    1   \n",
      "20080101010808    ココシュニック     52.0     四位    3.2    1   8R  ３歳上５００万下    1   \n",
      "20080101010809    ココシュニック     52.0     四位    3.2    1   8R  ３歳上５００万下    1   \n",
      "20080101010810    ココシュニック     52.0     四位    3.2    1   8R  ３歳上５００万下    1   \n",
      "20080101010811    ココシュニック     52.0     四位    3.2    1   8R  ３歳上５００万下    1   \n",
      "20080101010812    ココシュニック     52.0     四位    3.2    1   8R  ３歳上５００万下    1   \n",
      "20080101010100     ディアジーナ     54.0     四位    4.3    2   1R     ２歳未勝利    1   \n",
      "20080101010101   アイディンパワー     54.0     藤田    5.2    4   1R     ２歳未勝利    2   \n",
      "20080101010102    ウインリーズン     54.0    安藤勝    3.1    1   1R     ２歳未勝利    3   \n",
      "20080101010103     ヴァンエボン     54.0    小林徹   23.0    8   1R     ２歳未勝利    4   \n",
      "20080101010104     ラヴェリータ     54.0    長谷川   21.9    6   1R     ２歳未勝利    5   \n",
      "20080101010105  ドリームクェーサー     54.0     池添    4.6    3   1R     ２歳未勝利    6   \n",
      "20080101010106   ヨイチラブソング     52.0    △三浦   10.4    5   1R     ２歳未勝利    7   \n",
      "20080101010107    マキノワールド     54.0     大野  154.0   12   1R     ２歳未勝利    8   \n",
      "20080101010108   メジロデューチン     53.0   ☆北村友  111.7   11   1R     ２歳未勝利    9   \n",
      "20080101010109   スマイルミッキー     54.0    横山典   22.9    7   1R     ２歳未勝利   10   \n",
      "20080101010110    スズカフレーム     54.0     芹沢   81.2   10   1R     ２歳未勝利   11   \n",
      "20080101010111    ヨシインゾーン     54.0     武幸   46.9    9   1R     ２歳未勝利   12   \n",
      "20080101010112        コード     51.0   ▲荻野琢  163.7   13   1R     ２歳未勝利   13   \n",
      "20080101010113   マイネルヘリオス     54.0     津村  227.4   14   1R     ２歳未勝利   14   \n",
      "20080101010200    テイクザスカイ     52.0    △三浦    3.7    2   2R     ３歳未勝利    1   \n",
      "20080101010201   コアレスカポーテ     56.0     池添   58.9    6   2R     ３歳未勝利    2   \n",
      "20080101010202    バードダムール     54.0     鈴来    7.8    3   2R     ３歳未勝利    3   \n",
      "20080101010203   ファジーネーブル     54.0     津村   17.8    5   2R     ３歳未勝利    4   \n",
      "20080101010204   アスターヘイロー     56.0     秋山    9.6    4   2R     ３歳未勝利    5   \n",
      "20080101010205  アドマイヤアモーレ     54.0    安藤勝    1.6    1   2R     ３歳未勝利    6   \n",
      "20080101010206   ヤマサエレガント     53.0   ☆北村友   97.9    9   2R     ３歳未勝利    7   \n",
      "20080101010207    キングセンプー     56.0     武英   74.6    8   2R     ３歳未勝利    8   \n",
      "20080101010208     アラクネベガ     54.0     大野   70.0    7   2R     ３歳未勝利    9   \n",
      "20080101010209  マイディアダーリン     54.0     河北  196.5   11   2R     ３歳未勝利   10   \n",
      "\n",
      "               trainerA trainerB weight    year  \n",
      "20080101010100       美浦       田村    468  2008.0  \n",
      "20080101010101       栗東       本田    460  2008.0  \n",
      "20080101010102       美浦      加藤征    442  2008.0  \n",
      "20080101010103       栗東       山内    482  2008.0  \n",
      "20080101010104       栗東       松元    484  2008.0  \n",
      "20080101010105       栗東       西浦    452  2008.0  \n",
      "20080101010106       美浦       菅原    464  2008.0  \n",
      "20080101010107       美浦       土田    446  2008.0  \n",
      "20080101010108       美浦      高橋裕    418  2008.0  \n",
      "20080101010109       栗東      松永幹    474  2008.0  \n",
      "20080101010110       栗東       橋田    462  2008.0  \n",
      "20080101010111       美浦      嶋田潤    460  2008.0  \n",
      "20080101010112       美浦       高松    466  2008.0  \n",
      "20080101010113       美浦       粕谷    440  2008.0  \n",
      "20080101010100       美浦       田村    468  2008.0  \n",
      "20080101010101       栗東       本田    460  2008.0  \n",
      "20080101010102       美浦      加藤征    442  2008.0  \n",
      "20080101010103       栗東       山内    482  2008.0  \n",
      "20080101010104       栗東       松元    484  2008.0  \n",
      "20080101010105       栗東       西浦    452  2008.0  \n",
      "20080101010106       美浦       菅原    464  2008.0  \n",
      "20080101010107       美浦       土田    446  2008.0  \n",
      "20080101010108       美浦      高橋裕    418  2008.0  \n",
      "20080101010109       栗東      松永幹    474  2008.0  \n",
      "20080101010110       栗東       橋田    462  2008.0  \n",
      "20080101010111       美浦      嶋田潤    460  2008.0  \n",
      "20080101010112       美浦       高松    466  2008.0  \n",
      "20080101010113       美浦       粕谷    440  2008.0  \n",
      "20080101010100       美浦       田村    468  2008.0  \n",
      "20080101010101       美浦       田村    468  2008.0  \n",
      "...                 ...      ...    ...     ...  \n",
      "20080101010807       栗東      松田国    502  2008.0  \n",
      "20080101010808       栗東      松田国    502  2008.0  \n",
      "20080101010809       栗東      松田国    502  2008.0  \n",
      "20080101010810       栗東      松田国    502  2008.0  \n",
      "20080101010811       栗東      松田国    502  2008.0  \n",
      "20080101010812       栗東      松田国    502  2008.0  \n",
      "20080101010100       美浦       田村    468  2008.0  \n",
      "20080101010101       栗東       本田    460  2008.0  \n",
      "20080101010102       美浦      加藤征    442  2008.0  \n",
      "20080101010103       栗東       山内    482  2008.0  \n",
      "20080101010104       栗東       松元    484  2008.0  \n",
      "20080101010105       栗東       西浦    452  2008.0  \n",
      "20080101010106       美浦       菅原    464  2008.0  \n",
      "20080101010107       美浦       土田    446  2008.0  \n",
      "20080101010108       美浦      高橋裕    418  2008.0  \n",
      "20080101010109       栗東      松永幹    474  2008.0  \n",
      "20080101010110       栗東       橋田    462  2008.0  \n",
      "20080101010111       美浦      嶋田潤    460  2008.0  \n",
      "20080101010112       美浦       高松    466  2008.0  \n",
      "20080101010113       美浦       粕谷    440  2008.0  \n",
      "20080101010200       美浦      松永康    466  2008.0  \n",
      "20080101010201       美浦       池上    476  2008.0  \n",
      "20080101010202       美浦      大和田    444  2008.0  \n",
      "20080101010203       美浦       小西    438  2008.0  \n",
      "20080101010204       栗東      加藤敬    466  2008.0  \n",
      "20080101010205       栗東       橋田    472  2008.0  \n",
      "20080101010206       栗東      飯田雄    448  2008.0  \n",
      "20080101010207       栗東       山内    468  2008.0  \n",
      "20080101010208       美浦       石毛    422  2008.0  \n",
      "20080101010209       栗東       小野    488  2008.0  \n",
      "\n"
     ]
    },
    {
     "name": "stdout",
     "output_type": "stream",
     "text": [
      "[157 rows x 19 columns]\n"
     ]
    }
   ],
   "source": [
    "print(df)"
   ]
  },
  {
   "cell_type": "code",
   "execution_count": null,
   "metadata": {},
   "outputs": [],
   "source": []
  }
 ],
 "metadata": {
  "kernelspec": {
   "display_name": "Python 3",
   "language": "python",
   "name": "python3"
  },
  "language_info": {
   "codemirror_mode": {
    "name": "ipython",
    "version": 3
   },
   "file_extension": ".py",
   "mimetype": "text/x-python",
   "name": "python",
   "nbconvert_exporter": "python",
   "pygments_lexer": "ipython3",
   "version": "3.6.5"
  }
 },
 "nbformat": 4,
 "nbformat_minor": 2
}
